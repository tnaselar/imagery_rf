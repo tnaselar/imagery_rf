{
 "cells": [
  {
   "cell_type": "markdown",
   "metadata": {},
   "source": [
    "## Image identification using fwrf gabor models, 2014 imagery.rf data\n",
    "\n"
   ]
  },
  {
   "cell_type": "code",
   "execution_count": 1,
   "metadata": {
    "collapsed": false
   },
   "outputs": [
    {
     "name": "stderr",
     "output_type": "stream",
     "text": [
      "Using gpu device 0: GeForce GTX TITAN X\n"
     ]
    }
   ],
   "source": [
    "import numpy as np\n",
    "import pandas as pd\n",
    "import h5py\n",
    "import nibabel as nib\n",
    "import matplotlib.pyplot as plt\n",
    "import pickle\n",
    "from glob import glob\n",
    "from PIL import Image\n",
    "from imagery_rf_field.src.glmd_betas import *\n",
    "from os.path import join\n",
    "from time import time\n",
    "from glob import glob\n",
    "from scipy.io import loadmat\n",
    "from scipy.stats import pearsonr\n",
    "from hrf_fitting.src.feature_weighted_rf_models import make_rf_table,receptive_fields, model_space, prediction_menu, bigmult\n",
    "from hrf_fitting.src.feature_weighted_rf_models import leave_k_out_training, split_em_up\n",
    "from hrf_fitting.src.gabor_feature_dictionaries import gabor_feature_maps\n",
    "from math import atan2, degrees\n",
    "from IPython.display import Image as ipyImage"
   ]
  },
  {
   "cell_type": "code",
   "execution_count": 2,
   "metadata": {
    "collapsed": false
   },
   "outputs": [],
   "source": [
    "%load_ext autoreload\n",
    "%autoreload 2\n",
    "%matplotlib inline"
   ]
  },
  {
   "cell_type": "code",
   "execution_count": 3,
   "metadata": {
    "collapsed": true
   },
   "outputs": [],
   "source": [
    "#load the models\n",
    "#load the betas\n",
    "#load the stimuli\n",
    "#select voxels for img using pcp pred. scores, vice versa\n",
    "#generate predictions\n",
    "#240 x 240 correlation matrices grouped by "
   ]
  },
  {
   "cell_type": "markdown",
   "metadata": {},
   "source": [
    "### 0. load the models"
   ]
  },
  {
   "cell_type": "code",
   "execution_count": 4,
   "metadata": {
    "collapsed": true
   },
   "outputs": [],
   "source": [
    "##must first redefine the activation function to the namespace or pickle annoyingly wont work\n",
    "def log_act_func(x):\n",
    "    return np.log(1+np.sqrt(x))\n"
   ]
  },
  {
   "cell_type": "code",
   "execution_count": 6,
   "metadata": {
    "collapsed": false
   },
   "outputs": [],
   "source": [
    "\n",
    "state_list = ['pcp', 'img']\n",
    "saving_place = '/media/tnaselar/Data/imagery_rf.2014/model_runs/'\n",
    "ms={}\n",
    "for ii,state in enumerate(['pcp','img']):\n",
    "    saving_file = 'model_space_'+'fwrf_gabor_robust_'+state+'_'+'TN'+'.p'\n",
    "    ms[state]=pickle.load(open( join(saving_place, saving_file), \"r\"))\n",
    "\n",
    "val_cc = {}    \n",
    "val_cc['pcp'] = ms['pcp'].val_cc\n",
    "\n",
    "val_cc['img'] = ms['img'].val_cc"
   ]
  },
  {
   "cell_type": "markdown",
   "metadata": {},
   "source": [
    "### 1. load the data"
   ]
  },
  {
   "cell_type": "code",
   "execution_count": 7,
   "metadata": {
    "collapsed": false
   },
   "outputs": [
    {
     "name": "stdout",
     "output_type": "stream",
     "text": [
      "==============+++++++++========SUBJECT: TN\n"
     ]
    }
   ],
   "source": [
    "saving_spot = '/media/tnaselar/Data/scratch/'\n",
    "\n",
    "####with z-score\n",
    "# beta_path = '/musc.repo/Data/jesse/imagery_RF/brainthresh99_0_05_with_Zscore/betas/'\n",
    "# file_exp = '%s_all_runs_BETAs_w_zscore.mat'\n",
    "\n",
    "####withOUT z-score\n",
    "beta_path = '/musc.repo/Data/jesse/imagery_RF/brainthresh99_0_05_withOUT_Zscore/betas/'\n",
    "file_exp = '%s_all_runs_BETAs_no_zs.mat'\n",
    "subject = 'TN'\n",
    "stim_loc = '/musc.repo/mri/7T.cmrr/Presentation/imagery.rf.7T.July.2014/'\n",
    "cond_file_path = '/musc.repo/Data/jesse/imagery_RF/brainthresh99_0_05_withOUT_Zscore/condit_names/%s_condit_names.mat' %(subject)\n",
    "mask_path = '/media/tnaselar/Data/imagery_rf.2014/masks/%s_mask.nii.gz' %(subject)\n",
    "print '==============+++++++++========SUBJECT: %s' %(subject)\n",
    "beta_df = load_betas_from_mat_file(join(beta_path,file_exp) %(subject))\n",
    "mask = load_mask_from_nii(mask_path)\n",
    "stim_df = load_stim_from_mat_file(cond_file_path,stim_loc)\n",
    "fMRI = imagery_rf_dataset(subject, beta_df, stim_df, mask)"
   ]
  },
  {
   "cell_type": "code",
   "execution_count": 8,
   "metadata": {
    "collapsed": false
   },
   "outputs": [
    {
     "name": "stdout",
     "output_type": "stream",
     "text": [
      "number of imagery stimuli: 512\n",
      "number of perception stimuli: 512\n",
      "number of validation samples: 24\n",
      "number of validation samples: 24\n"
     ]
    }
   ],
   "source": [
    "##reconstitute the validation sets\n",
    "idx = {}\n",
    "idx['img'] = fMRI.get_stimuli_with('run','img').index\n",
    "idx['pcp'] = fMRI.get_stimuli_with('run','pcp').index\n",
    "\n",
    "\n",
    "print 'number of imagery stimuli: %d' %(len(idx['img']))\n",
    "print 'number of perception stimuli: %d' %(len(idx['pcp']))\n",
    "\n",
    "val_frac = 0.04687\n",
    "n_resamples = 10\n",
    "val_idx = {}\n",
    "for state in state_list:\n",
    "    val_idx[state] = split_em_up(len(idx[state]),val_frac,n_resamples)"
   ]
  },
  {
   "cell_type": "code",
   "execution_count": 9,
   "metadata": {
    "collapsed": false
   },
   "outputs": [
    {
     "name": "stdout",
     "output_type": "stream",
     "text": [
      "8\n",
      "[u'1pcp' u'2pcp' u'3pcp' u'4pcp']\n",
      "8\n",
      "[u'1pcp' u'2pcp' u'3pcp' u'4pcp']\n",
      "7\n",
      "[u'1pcp' u'2pcp' u'3pcp' u'4pcp']\n",
      "8\n",
      "[u'1pcp' u'2pcp' u'3pcp' u'4pcp']\n",
      "7\n",
      "[u'1pcp' u'2pcp' u'3pcp' u'4pcp']\n",
      "7\n",
      "[u'1pcp' u'2pcp' u'3pcp' u'4pcp']\n",
      "7\n",
      "[u'1pcp' u'2pcp' u'3pcp' u'4pcp']\n",
      "8\n",
      "[u'1pcp' u'2pcp' u'3pcp' u'4pcp']\n",
      "8\n",
      "[u'1pcp' u'2pcp' u'3pcp' u'4pcp']\n",
      "8\n",
      "[u'1pcp' u'2pcp' u'3pcp' u'4pcp']\n",
      "8\n",
      "[u'1img' u'2img' u'3img' u'4img']\n",
      "8\n",
      "[u'1img' u'2img' u'3img' u'4img']\n",
      "7\n",
      "[u'1img' u'2img' u'3img' u'4img']\n",
      "8\n",
      "[u'1img' u'2img' u'3img' u'4img']\n",
      "7\n",
      "[u'1img' u'2img' u'3img' u'4img']\n",
      "7\n",
      "[u'1img' u'2img' u'3img' u'4img']\n",
      "7\n",
      "[u'1img' u'2img' u'3img' u'4img']\n",
      "8\n",
      "[u'1img' u'2img' u'3img' u'4img']\n",
      "8\n",
      "[u'1img' u'2img' u'3img' u'4img']\n",
      "8\n",
      "[u'1img' u'2img' u'3img' u'4img']\n"
     ]
    }
   ],
   "source": [
    "\n",
    "for state in state_list:\n",
    "    for ii in range(n_resamples):\n",
    "        print len(fMRI.stim.loc[np.array(idx[state])[val_idx[state][ii]],'location'].unique())\n",
    "        print fMRI.stim.loc[np.array(idx[state])[val_idx[state][ii]],'run'].unique()"
   ]
  },
  {
   "cell_type": "code",
   "execution_count": 10,
   "metadata": {
    "collapsed": true
   },
   "outputs": [],
   "source": [
    "### 2. load the stimuli"
   ]
  },
  {
   "cell_type": "code",
   "execution_count": 11,
   "metadata": {
    "collapsed": true
   },
   "outputs": [],
   "source": [
    "##load the stimuli\n",
    "max_feature_res = np.max(ms['pcp'].feature_resolutions.values())\n",
    "\n",
    "load_stim_func = lambda dx: np.array(fMRI.get_condition_stimuli(dx,output = 'PIL',image_size=(max_feature_res,max_feature_res)).convert('L'))[np.newaxis,np.newaxis] \n",
    "\n",
    "stimuli = {}\n",
    "for state in state_list:\n",
    "    stimuli[state] = np.concatenate(map(load_stim_func,\n",
    "                                        np.array(idx[state])[val_idx[state][ii]]),\n",
    "                                    axis=0)\n"
   ]
  },
  {
   "cell_type": "markdown",
   "metadata": {},
   "source": [
    "### 2. reconstitute the gabors"
   ]
  },
  {
   "cell_type": "code",
   "execution_count": 15,
   "metadata": {
    "collapsed": true
   },
   "outputs": [
    {
     "name": "stdout",
     "output_type": "stream",
     "text": [
      "27.324889 pixels correspond to one degree\n",
      "The size of the stimulus is 600 pixels and 21.958003465 visual degrees\n",
      "D = total number of features = 32\n"
     ]
    },
    {
     "data": {
      "text/html": [
       "<div>\n",
       "<table border=\"1\" class=\"dataframe\">\n",
       "  <thead>\n",
       "    <tr style=\"text-align: right;\">\n",
       "      <th></th>\n",
       "      <th>cycles per deg.</th>\n",
       "      <th>cycles_per_filter</th>\n",
       "      <th>filter size (deg.)</th>\n",
       "      <th>pix per stimulus</th>\n",
       "      <th>pix_per_filter</th>\n",
       "      <th>radius of Gauss. envelope (deg)</th>\n",
       "      <th>orientation</th>\n",
       "    </tr>\n",
       "  </thead>\n",
       "  <tbody>\n",
       "    <tr>\n",
       "      <th>0</th>\n",
       "      <td>0.114000</td>\n",
       "      <td>16</td>\n",
       "      <td>140.350877</td>\n",
       "      <td>10.012848</td>\n",
       "      <td>64</td>\n",
       "      <td>17.543860</td>\n",
       "      <td>0.000000</td>\n",
       "    </tr>\n",
       "    <tr>\n",
       "      <th>1</th>\n",
       "      <td>0.192730</td>\n",
       "      <td>16</td>\n",
       "      <td>83.017792</td>\n",
       "      <td>16.927841</td>\n",
       "      <td>64</td>\n",
       "      <td>10.377224</td>\n",
       "      <td>0.000000</td>\n",
       "    </tr>\n",
       "    <tr>\n",
       "      <th>2</th>\n",
       "      <td>0.325831</td>\n",
       "      <td>16</td>\n",
       "      <td>49.105171</td>\n",
       "      <td>28.618412</td>\n",
       "      <td>64</td>\n",
       "      <td>6.138146</td>\n",
       "      <td>0.000000</td>\n",
       "    </tr>\n",
       "    <tr>\n",
       "      <th>3</th>\n",
       "      <td>0.550854</td>\n",
       "      <td>16</td>\n",
       "      <td>29.045796</td>\n",
       "      <td>48.382631</td>\n",
       "      <td>64</td>\n",
       "      <td>3.630724</td>\n",
       "      <td>0.000000</td>\n",
       "    </tr>\n",
       "    <tr>\n",
       "      <th>4</th>\n",
       "      <td>0.931281</td>\n",
       "      <td>16</td>\n",
       "      <td>17.180639</td>\n",
       "      <td>81.796257</td>\n",
       "      <td>64</td>\n",
       "      <td>2.147580</td>\n",
       "      <td>0.000000</td>\n",
       "    </tr>\n",
       "    <tr>\n",
       "      <th>5</th>\n",
       "      <td>1.574435</td>\n",
       "      <td>16</td>\n",
       "      <td>10.162379</td>\n",
       "      <td>138.285735</td>\n",
       "      <td>64</td>\n",
       "      <td>1.270297</td>\n",
       "      <td>0.000000</td>\n",
       "    </tr>\n",
       "    <tr>\n",
       "      <th>6</th>\n",
       "      <td>2.661758</td>\n",
       "      <td>16</td>\n",
       "      <td>6.011065</td>\n",
       "      <td>233.787525</td>\n",
       "      <td>64</td>\n",
       "      <td>0.751383</td>\n",
       "      <td>0.000000</td>\n",
       "    </tr>\n",
       "    <tr>\n",
       "      <th>7</th>\n",
       "      <td>4.500000</td>\n",
       "      <td>16</td>\n",
       "      <td>3.555556</td>\n",
       "      <td>395.244000</td>\n",
       "      <td>64</td>\n",
       "      <td>0.444444</td>\n",
       "      <td>0.000000</td>\n",
       "    </tr>\n",
       "    <tr>\n",
       "      <th>8</th>\n",
       "      <td>0.114000</td>\n",
       "      <td>16</td>\n",
       "      <td>140.350877</td>\n",
       "      <td>10.012848</td>\n",
       "      <td>64</td>\n",
       "      <td>17.543860</td>\n",
       "      <td>0.785398</td>\n",
       "    </tr>\n",
       "  </tbody>\n",
       "</table>\n",
       "</div>"
      ],
      "text/plain": [
       "   cycles per deg.  cycles_per_filter  filter size (deg.)  pix per stimulus  \\\n",
       "0         0.114000                 16          140.350877         10.012848   \n",
       "1         0.192730                 16           83.017792         16.927841   \n",
       "2         0.325831                 16           49.105171         28.618412   \n",
       "3         0.550854                 16           29.045796         48.382631   \n",
       "4         0.931281                 16           17.180639         81.796257   \n",
       "5         1.574435                 16           10.162379        138.285735   \n",
       "6         2.661758                 16            6.011065        233.787525   \n",
       "7         4.500000                 16            3.555556        395.244000   \n",
       "8         0.114000                 16          140.350877         10.012848   \n",
       "\n",
       "   pix_per_filter  radius of Gauss. envelope (deg)  orientation  \n",
       "0              64                        17.543860     0.000000  \n",
       "1              64                        10.377224     0.000000  \n",
       "2              64                         6.138146     0.000000  \n",
       "3              64                         3.630724     0.000000  \n",
       "4              64                         2.147580     0.000000  \n",
       "5              64                         1.270297     0.000000  \n",
       "6              64                         0.751383     0.000000  \n",
       "7              64                         0.444444     0.000000  \n",
       "8              64                        17.543860     0.785398  "
      ]
     },
     "execution_count": 15,
     "metadata": {},
     "output_type": "execute_result"
    }
   ],
   "source": [
    "native_stim_size = 600  ##pixels\n",
    "viewing_distance = 100 ##cm\n",
    "viewing_area = 38.8 ##cm\n",
    "\n",
    "# Calculate the number of degrees that correspond to a single pixel. This will\n",
    "# generally be a very small value, something like 0.03.\n",
    "deg_per_px = degrees(atan2(.5*viewing_area, viewing_distance)) / (.5*native_stim_size)\n",
    "print '%f pixels correspond to one degree' % (1./deg_per_px)\n",
    "# Calculate the size of the stimulus in degrees\n",
    "size_in_deg = native_stim_size * deg_per_px\n",
    "print 'The size of the stimulus is %s pixels and %s visual degrees' % (native_stim_size, size_in_deg)\n",
    "n_orientations = 4\n",
    "deg_per_stimulus = 21.958\n",
    "lowest_sp_freq = .114 ##cyc/deg\n",
    "highest_sp_freq = 4.5\n",
    "num_sp_freq = 8\n",
    "pix_per_cycle = 4.#2.13333333\n",
    "complex_cell = True\n",
    "n_colors = 1 ##let's do grayscale first\n",
    "diams_per_filter = 4\n",
    "cycles_per_radius = 2.0\n",
    "\n",
    "print 'D = total number of features = %d' %(n_orientations * num_sp_freq)\n",
    "gfm = gabor_feature_maps(n_orientations,\n",
    "                         deg_per_stimulus,\n",
    "                         (lowest_sp_freq,highest_sp_freq,num_sp_freq),\n",
    "                         pix_per_cycle=pix_per_cycle,complex_cell=complex_cell,\n",
    "                         diams_per_filter = diams_per_filter,\n",
    "                         cycles_per_radius = cycles_per_radius,\n",
    "                         color_channels=n_colors)\n",
    "gfm.gbr_table.head(9)"
   ]
  },
  {
   "cell_type": "markdown",
   "metadata": {},
   "source": [
    "### 3. select the voxels "
   ]
  },
  {
   "cell_type": "code",
   "execution_count": 12,
   "metadata": {
    "collapsed": false
   },
   "outputs": [
    {
     "name": "stdout",
     "output_type": "stream",
     "text": [
      "number of voxels 1212\n",
      "number of voxels 9384\n"
     ]
    }
   ],
   "source": [
    "count_thresh = 0.25\n",
    "vox_idx = {}\n",
    "vox_idx['img'] = np.where(map(lambda x: x > count_thresh, val_cc['pcp']))[0]\n",
    "vox_idx['pcp'] = np.where(map(lambda x: x > count_thresh, val_cc['img']))[0]\n",
    "\n",
    "nvox = {}\n",
    "for state in state_list:\n",
    "    nvox[state] = len(vox_idx[state])\n",
    "    print 'number of voxels %d' %(nvox[state])\n",
    "\n"
   ]
  },
  {
   "cell_type": "markdown",
   "metadata": {},
   "source": [
    "### 4. predictions"
   ]
  },
  {
   "cell_type": "code",
   "execution_count": 17,
   "metadata": {
    "collapsed": false
   },
   "outputs": [
    {
     "name": "stdout",
     "output_type": "stream",
     "text": [
      "==========================================================pcp\n",
      "allocating memory for feature maps\n",
      "constructing feature maps\n",
      "feature 0 took 0.007926 s.\n",
      "feature 1 took 0.011607 s.\n",
      "feature 2 took 0.023277 s.\n",
      "feature 3 took 0.047203 s.\n",
      "feature 4 took 0.096090 s.\n",
      "feature 5 took 0.206491 s.\n",
      "feature 6 took 0.572237 s.\n"
     ]
    },
    {
     "ename": "RuntimeError",
     "evalue": "GpuCorrMM failed to allocate working memory of 3969 x 156025\n\nApply node that caused the error: GpuCorrMM_gradInputs{valid, (1, 1)}(GpuContiguous.0, GpuContiguous.0)\nInputs types: [CudaNdarrayType(float32, 4D), CudaNdarrayType(float32, 4D)]\nInputs shapes: [(1, 1, 63, 63), (24, 1, 395, 395)]\nInputs strides: [(0, 0, 63, 1), (156025, 0, 395, 1)]\nInputs values: ['not shown', 'not shown']\n\nHINT: Re-running with most Theano optimization disabled could give you a back-trace of when this node was created. This can be done with by setting the Theano flag 'optimizer=fast_compile'. If that does not work, Theano optimizations can be disabled with 'optimizer=None'.\nHINT: Use the Theano flag 'exception_verbosity=high' for a debugprint and storage map footprint of this apply node.",
     "output_type": "error",
     "traceback": [
      "\u001b[1;31m---------------------------------------------------------------------------\u001b[0m",
      "\u001b[1;31mRuntimeError\u001b[0m                              Traceback (most recent call last)",
      "\u001b[1;32m<ipython-input-17-7d6e7aad5c60>\u001b[0m in \u001b[0;36m<module>\u001b[1;34m()\u001b[0m\n\u001b[0;32m      4\u001b[0m     \u001b[1;32mprint\u001b[0m \u001b[1;34m'==========================================================%s'\u001b[0m \u001b[1;33m%\u001b[0m\u001b[1;33m(\u001b[0m\u001b[0mstate\u001b[0m\u001b[1;33m)\u001b[0m\u001b[1;33m\u001b[0m\u001b[0m\n\u001b[0;32m      5\u001b[0m     \u001b[1;31m##build feature diction. overwrite across state\u001b[0m\u001b[1;33m\u001b[0m\u001b[1;33m\u001b[0m\u001b[0m\n\u001b[1;32m----> 6\u001b[1;33m     \u001b[0mfeature_dict\u001b[0m \u001b[1;33m=\u001b[0m \u001b[0mgfm\u001b[0m\u001b[1;33m.\u001b[0m\u001b[0mcreate_feature_maps\u001b[0m\u001b[1;33m(\u001b[0m\u001b[0mstimuli\u001b[0m\u001b[1;33m[\u001b[0m\u001b[0mstate\u001b[0m\u001b[1;33m]\u001b[0m\u001b[1;33m)\u001b[0m\u001b[1;33m\u001b[0m\u001b[0m\n\u001b[0m\u001b[0;32m      7\u001b[0m     \u001b[1;31m##build model space tensor\u001b[0m\u001b[1;33m\u001b[0m\u001b[1;33m\u001b[0m\u001b[0m\n\u001b[0;32m      8\u001b[0m     \u001b[0mmst\u001b[0m\u001b[1;33m[\u001b[0m\u001b[0mstate\u001b[0m\u001b[1;33m]\u001b[0m \u001b[1;33m=\u001b[0m \u001b[0mms\u001b[0m\u001b[1;33m[\u001b[0m\u001b[0mstate\u001b[0m\u001b[1;33m]\u001b[0m\u001b[1;33m.\u001b[0m\u001b[0mconstruct_model_space_tensor\u001b[0m\u001b[1;33m(\u001b[0m\u001b[0mfeature_dict\u001b[0m\u001b[1;33m,\u001b[0m \u001b[0mnormalize\u001b[0m\u001b[1;33m=\u001b[0m\u001b[0mFalse\u001b[0m\u001b[1;33m)\u001b[0m\u001b[1;33m\u001b[0m\u001b[0m\n",
      "\u001b[1;32m/musc.repo/Docs/tnaselar/code/Python/hrf_fitting/src/gabor_feature_dictionaries.pyc\u001b[0m in \u001b[0;36mcreate_feature_maps\u001b[1;34m(self, image_stack, interp_order)\u001b[0m\n\u001b[0;32m    261\u001b[0m                                    \u001b[0mself\u001b[0m\u001b[1;33m.\u001b[0m\u001b[0mgbr_table\u001b[0m\u001b[1;33m,\u001b[0m\u001b[1;33m\u001b[0m\u001b[0m\n\u001b[0;32m    262\u001b[0m                                    \u001b[0mcomplex_cell\u001b[0m\u001b[1;33m=\u001b[0m\u001b[0mself\u001b[0m\u001b[1;33m.\u001b[0m\u001b[0mcomplex_cell\u001b[0m\u001b[1;33m,\u001b[0m\u001b[1;33m\u001b[0m\u001b[0m\n\u001b[1;32m--> 263\u001b[1;33m                                    interp_order=interp_order)\n\u001b[0m\u001b[0;32m    264\u001b[0m \u001b[1;33m\u001b[0m\u001b[0m\n\u001b[0;32m    265\u001b[0m \u001b[1;33m\u001b[0m\u001b[0m\n",
      "\u001b[1;32m/musc.repo/Docs/tnaselar/code/Python/hrf_fitting/src/gabor_feature_dictionaries.pyc\u001b[0m in \u001b[0;36mcreate_gabor_feature_map\u001b[1;34m(image_stack, filter_stack, freq_table, complex_cell, interp_order)\u001b[0m\n\u001b[0;32m    200\u001b[0m             tmp_feature_map = apply_filter(stimuli,\n\u001b[0;32m    201\u001b[0m                                             \u001b[0mnp\u001b[0m\u001b[1;33m.\u001b[0m\u001b[0mreal\u001b[0m\u001b[1;33m(\u001b[0m\u001b[0mthis_filter\u001b[0m\u001b[1;33m)\u001b[0m\u001b[1;33m.\u001b[0m\u001b[0mastype\u001b[0m\u001b[1;33m(\u001b[0m\u001b[1;34m'float32'\u001b[0m\u001b[1;33m)\u001b[0m\u001b[1;33m,\u001b[0m\u001b[1;33m\u001b[0m\u001b[0m\n\u001b[1;32m--> 202\u001b[1;33m                                             np.imag(this_filter).astype('float32'))\n\u001b[0m\u001b[0;32m    203\u001b[0m         \u001b[1;32melse\u001b[0m\u001b[1;33m:\u001b[0m\u001b[1;33m\u001b[0m\u001b[0m\n\u001b[0;32m    204\u001b[0m             \u001b[0mtmp_feature_map\u001b[0m \u001b[1;33m=\u001b[0m \u001b[0mapply_filter\u001b[0m\u001b[1;33m(\u001b[0m\u001b[0mstimuli\u001b[0m\u001b[1;33m,\u001b[0m\u001b[0mthis_filter\u001b[0m\u001b[1;33m.\u001b[0m\u001b[0mastype\u001b[0m\u001b[1;33m(\u001b[0m\u001b[1;34m'float32'\u001b[0m\u001b[1;33m)\u001b[0m\u001b[1;33m)\u001b[0m\u001b[1;33m\u001b[0m\u001b[0m\n",
      "\u001b[1;32m/home/tnaselar/anaconda/lib/python2.7/site-packages/theano/compile/function_module.pyc\u001b[0m in \u001b[0;36m__call__\u001b[1;34m(self, *args, **kwargs)\u001b[0m\n\u001b[0;32m    604\u001b[0m                         \u001b[0mself\u001b[0m\u001b[1;33m.\u001b[0m\u001b[0mfn\u001b[0m\u001b[1;33m.\u001b[0m\u001b[0mnodes\u001b[0m\u001b[1;33m[\u001b[0m\u001b[0mself\u001b[0m\u001b[1;33m.\u001b[0m\u001b[0mfn\u001b[0m\u001b[1;33m.\u001b[0m\u001b[0mposition_of_error\u001b[0m\u001b[1;33m]\u001b[0m\u001b[1;33m,\u001b[0m\u001b[1;33m\u001b[0m\u001b[0m\n\u001b[0;32m    605\u001b[0m                         \u001b[0mself\u001b[0m\u001b[1;33m.\u001b[0m\u001b[0mfn\u001b[0m\u001b[1;33m.\u001b[0m\u001b[0mthunks\u001b[0m\u001b[1;33m[\u001b[0m\u001b[0mself\u001b[0m\u001b[1;33m.\u001b[0m\u001b[0mfn\u001b[0m\u001b[1;33m.\u001b[0m\u001b[0mposition_of_error\u001b[0m\u001b[1;33m]\u001b[0m\u001b[1;33m,\u001b[0m\u001b[1;33m\u001b[0m\u001b[0m\n\u001b[1;32m--> 606\u001b[1;33m                         storage_map=self.fn.storage_map)\n\u001b[0m\u001b[0;32m    607\u001b[0m                 \u001b[1;32melse\u001b[0m\u001b[1;33m:\u001b[0m\u001b[1;33m\u001b[0m\u001b[0m\n\u001b[0;32m    608\u001b[0m                     \u001b[1;31m# For the c linker We don't have access from\u001b[0m\u001b[1;33m\u001b[0m\u001b[1;33m\u001b[0m\u001b[0m\n",
      "\u001b[1;32m/home/tnaselar/anaconda/lib/python2.7/site-packages/theano/compile/function_module.pyc\u001b[0m in \u001b[0;36m__call__\u001b[1;34m(self, *args, **kwargs)\u001b[0m\n\u001b[0;32m    593\u001b[0m         \u001b[0mt0_fn\u001b[0m \u001b[1;33m=\u001b[0m \u001b[0mtime\u001b[0m\u001b[1;33m.\u001b[0m\u001b[0mtime\u001b[0m\u001b[1;33m(\u001b[0m\u001b[1;33m)\u001b[0m\u001b[1;33m\u001b[0m\u001b[0m\n\u001b[0;32m    594\u001b[0m         \u001b[1;32mtry\u001b[0m\u001b[1;33m:\u001b[0m\u001b[1;33m\u001b[0m\u001b[0m\n\u001b[1;32m--> 595\u001b[1;33m             \u001b[0moutputs\u001b[0m \u001b[1;33m=\u001b[0m \u001b[0mself\u001b[0m\u001b[1;33m.\u001b[0m\u001b[0mfn\u001b[0m\u001b[1;33m(\u001b[0m\u001b[1;33m)\u001b[0m\u001b[1;33m\u001b[0m\u001b[0m\n\u001b[0m\u001b[0;32m    596\u001b[0m         \u001b[1;32mexcept\u001b[0m \u001b[0mException\u001b[0m\u001b[1;33m:\u001b[0m\u001b[1;33m\u001b[0m\u001b[0m\n\u001b[0;32m    597\u001b[0m             \u001b[1;32mif\u001b[0m \u001b[0mhasattr\u001b[0m\u001b[1;33m(\u001b[0m\u001b[0mself\u001b[0m\u001b[1;33m.\u001b[0m\u001b[0mfn\u001b[0m\u001b[1;33m,\u001b[0m \u001b[1;34m'position_of_error'\u001b[0m\u001b[1;33m)\u001b[0m\u001b[1;33m:\u001b[0m\u001b[1;33m\u001b[0m\u001b[0m\n",
      "\u001b[1;31mRuntimeError\u001b[0m: GpuCorrMM failed to allocate working memory of 3969 x 156025\n\nApply node that caused the error: GpuCorrMM_gradInputs{valid, (1, 1)}(GpuContiguous.0, GpuContiguous.0)\nInputs types: [CudaNdarrayType(float32, 4D), CudaNdarrayType(float32, 4D)]\nInputs shapes: [(1, 1, 63, 63), (24, 1, 395, 395)]\nInputs strides: [(0, 0, 63, 1), (156025, 0, 395, 1)]\nInputs values: ['not shown', 'not shown']\n\nHINT: Re-running with most Theano optimization disabled could give you a back-trace of when this node was created. This can be done with by setting the Theano flag 'optimizer=fast_compile'. If that does not work, Theano optimizations can be disabled with 'optimizer=None'.\nHINT: Use the Theano flag 'exception_verbosity=high' for a debugprint and storage map footprint of this apply node."
     ]
    }
   ],
   "source": [
    "pred = {}\n",
    "corr_matrix = {}\n",
    "for state in state_list: #[pcp', 'img']:\n",
    "    print '==========================================================%s' %(state)\n",
    "    ##build feature diction. overwrite across state\n",
    "    feature_dict = gfm.create_feature_maps(stimuli[state])\n",
    "    ##build model space tensor\n",
    "    mst[state] = ms[state].construct_model_space_tensor(feature_dict, normalize=False)\n",
    "    mst[state] = ms[state].normalize_model_space_tensor(mst[state],save=True)\n",
    "\n",
    "    voxel_data = fMRI.betas[vox_idx[state], np.array(idx[state])[val_idx[state][ii]]].T ##stim x vox\n",
    "    \n",
    "    ##generate predictions\n",
    "    Tval = len(val_idx[state][0])\n",
    "    pred[state] = np.zeros((Tval*n_resamples,nvox))  ##stim x vox\n",
    "    corr_matrix[state] = np.zeros((len(val_idx[state]), len(val_idx[state])))\n",
    "\n",
    "    for val_iter in val_idx[state].keys():\n",
    "        frf = ms[state].params[val_iter]['frf']\n",
    "        ffw = ms[state].params[val_iter]['ffw']\n",
    "        \n",
    "        for v in vox_idx[state]: \n",
    "            pred[state][(val_iter*Tval):(val_iter*Tval+Tval),v] = np.squeeze(bigmult(mst[state][np.newaxis,frf[v],val_idx[state][val_iter],:],\n",
    "                                           ffw[np.newaxis,:,v, np.newaxis]))\n",
    "\n",
    "    for c1 in range(len(val_idx[state])):\n",
    "        for c2 in range(len(val_idx[state])):\n",
    "            corr_matrix[state][c1, c2] = pearsonr(voxel_data[c1, :], pred[state][c2, :][0]) \n",
    "        \n",
    "        \n",
    "        \n",
    "        \n",
    "        \n",
    "        \n",
    "        \n",
    "        \n",
    "        \n",
    "        \n",
    "        \n",
    "        \n",
    "        \n",
    "        \n",
    "        \n",
    "        \n",
    "        \n",
    "        \n",
    "        "
   ]
  },
  {
   "cell_type": "code",
   "execution_count": 14,
   "metadata": {
    "collapsed": true
   },
   "outputs": [],
   "source": [
    "foo = ms[state]"
   ]
  },
  {
   "cell_type": "code",
   "execution_count": null,
   "metadata": {
    "collapsed": true
   },
   "outputs": [],
   "source": [
    "foo."
   ]
  }
 ],
 "metadata": {
  "kernelspec": {
   "display_name": "Python 2",
   "language": "python",
   "name": "python2"
  },
  "language_info": {
   "codemirror_mode": {
    "name": "ipython",
    "version": 2
   },
   "file_extension": ".py",
   "mimetype": "text/x-python",
   "name": "python",
   "nbconvert_exporter": "python",
   "pygments_lexer": "ipython2",
   "version": "2.7.11"
  }
 },
 "nbformat": 4,
 "nbformat_minor": 0
}
