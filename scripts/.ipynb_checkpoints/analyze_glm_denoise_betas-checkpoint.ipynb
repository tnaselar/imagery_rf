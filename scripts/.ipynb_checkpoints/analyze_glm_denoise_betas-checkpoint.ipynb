{
 "cells": [
  {
   "cell_type": "markdown",
   "metadata": {},
   "source": [
    "## Analysis of beta-values output by glmdenoise, 2014 imagery.rf data\n"
   ]
  },
  {
   "cell_type": "markdown",
   "metadata": {},
   "source": [
    "### Info\n",
    "BASIC STRUCTURE OF STUDY:  \n",
    "3 subjects  \n",
    "8 different types of design matrices x (percieved or imagined) = 16   \n",
    "each of the 8 has it's own set of 8 pictures, shown in 8 locations   \n",
    "\n",
    "16 x 8 x 8 = 1024 max conditions \n",
    "(only TN has this many, others are missing a couple)\n",
    "\n",
    "*********************************************************************\n",
    "\n",
    "#### BETA WEIGHTS  (1 for ea subj)  \n",
    "##### with z-score\n",
    "path = /musc.repo/Data/jesse/imagery_RF/brainthresh99_0_05_with_Zscore/betas/  \n",
    "file = SUBJ_all_runs_BETAs_w_zscore.mat  \n",
    "#### no z-score\n",
    "path = /musc.repo/Data/jesse/imagery_RF/brainthresh99_0_05_withOUT_Zscore/betas/  \n",
    "file = SUBJ_all_runs_BETAs_no_zs.mat  \n",
    "\n",
    "\n",
    "#### CONDITION NAMES (1 for ea subj; width matches beta weight matrix)   \n",
    "structure: <'type_of_run/pic_category/pic_name/pic_location'>  \n",
    "path = /musc.repo/Data/jesse/imagery_RF/brainthresh99_0_05/all_data/condit_names\n",
    "file name = **_condit_name.mat\n",
    "\n",
    "#### INDICES TO TURN VECTORS INTO BRAIN SHAPES  \n",
    "path = /home/breedlov/musc.repo/Data/jesse/imagery_RF  \n",
    "file name = vect2brain.m  \n",
    "\n",
    "#### COUNT OF PCs REMOVED (2 rows, 1st row gives a # of pcs removed, 2nd row gives how many runs for a subj had that many removed)   \n",
    "path = /musc.repo/Data/jesse/imagery_RF/brainthresh99_0_05/all_data/pcs_removed  \n",
    "file name = **_pcremoved_count.mat\n",
    "\n",
    "#### HISTOGRAMS of SNR before vs after GLM-denoise   \n",
    "path = /musc.repo/Data/jesse/imagery_RF/brainthresh99_0_05/all_data/SNR_plots   \n",
    "file name = **_2pcp_1vols_split_151021_SNR_plots.png  \n",
    "\n",
    "#### NUMBER OF PCs REMOVED (width matches beta weight matrix; one # for every run, repeated for every condition of run)  \n",
    "path = /musc.repo/Data/jesse/imagery_RF/brainthresh99_0_05/all_data/pcs_removed  \n",
    "file name = **_all_runs_pcs_removed_matrix.mat  \n",
    "\n",
    "#### ALL OUTPUT GLMDENOISE  \n",
    "path = /internal/study_data/img_RF/GLM_testing/all_subjects_all_runs/brainthresh99_0_05  \n",
    "1 folder for every run (~45 runs)  \n",
    "includes denoised-data, results, & reconstructed brains niftis for SNR, betas, noise pool, etc  \n",
    "\n",
    "\n"
   ]
  },
  {
   "cell_type": "code",
   "execution_count": null,
   "metadata": {
    "collapsed": false
   },
   "outputs": [],
   "source": [
    "import numpy as np\n",
    "import pandas as pd\n",
    "from scipy.io import loadmat\n",
    "import nibabel as nib\n",
    "import os\n",
    "from glob import glob\n",
    "from PIL import Image\n",
    "from imagery_rf_field.src.glmd_betas import *\n",
    "from os.path import join\n",
    "import matplotlib.pyplot as plt\n",
    "%load_ext autoreload\n",
    "%autoreload 2\n",
    "%matplotlib inline"
   ]
  },
  {
   "cell_type": "markdown",
   "metadata": {},
   "source": [
    "#### Some code for reading and organizing the data in .mat files\n",
    "neural = (voxels) x (condition1,...,conditionT,cooridnates,SNR)  \n",
    "stim = (condition1,...,conditionT) x (run,category,object_name,image_filename)\n",
    "\n"
   ]
  },
  {
   "cell_type": "code",
   "execution_count": null,
   "metadata": {
    "collapsed": false
   },
   "outputs": [],
   "source": [
    "# def load_mask_from_nii(mask_nii_file):\n",
    "#     return nib.load(mask_nii_file).get_data()\n",
    "\n",
    "# def load_betas_from_mat_file(beta_mat_file):\n",
    "#     return pd.DataFrame(loadmat(beta_mat_file)['all_runs_matrix'])\n",
    "\n",
    "\n",
    "# def get_file_name_for_each_stim(row, stim_path):\n",
    "#     location_dict = {'north':0, 'west':1, 'southwest':2, 'northwest':3, 'east':4, 'south':5, 'northeast':6, 'southeast':7}\n",
    "#     stim_loc = os.path.join(stim_path,'imagery_%0.3d' %(int(row['run'][0])))\n",
    "#     stim_names = glob(os.path.join(stim_loc,'*.png'))\n",
    "#     stim_names = map(os.path.basename,stim_names)\n",
    "#     parts = map(lambda x: x.split('.'), stim_names)\n",
    "#     img_number=None\n",
    "#     for p in parts:\n",
    "# #         print '==='\n",
    "# #         print row['category']\n",
    "# #         print p[0]\n",
    "# #         print row['object_name']\n",
    "# #         print str(p[1]).replace(',','_')\n",
    "# #         print str(p[1]).replace(' ','_')\n",
    "# #         print '==='\n",
    "#         nm = str(p[1].replace(',','_'))\n",
    "#         nm = nm.replace(' ','_')\n",
    "#         if (row['category']==p[0]) & (row['object_name']==nm):\n",
    "#             img_name = os.path.join(os.path.join(stim_loc,'frame_files'),\n",
    "#                                     '.'.join([p[3],\n",
    "#                                              p[2],\n",
    "#                                              '%0.2d' %(location_dict[row['location']]),\n",
    "#                                              'image',\n",
    "#                                              'png']))\n",
    "#     return img_name\n",
    "\n",
    "# def load_stim_from_mat_file(stim_mat_file,stim_loc):\n",
    "#     df = pd.DataFrame(data = map(lambda x: x.split('/'),\n",
    "#                                  [c[0] for c in loadmat(stim_mat_file)['all_cur_subj_condits'][0]]),\n",
    "#                       columns=['run', 'category', 'object_name', 'location'])\n",
    "#     df['image_name'] = df.apply(lambda row: get_file_name_for_each_stim(row, stim_loc),axis=1)\n",
    "#     return df\n",
    "    "
   ]
  },
  {
   "cell_type": "code",
   "execution_count": null,
   "metadata": {
    "collapsed": false
   },
   "outputs": [],
   "source": [
    "# class imagery_rf_dataset(object):\n",
    "#     def __init__(self, subject, beta_data_frame, stim_data_frame, mask, order = 'F'):\n",
    "#         self.betas = beta_data_frame\n",
    "#         self.stim  = stim_data_frame\n",
    "#         self.mask = mask\n",
    "#         self.subject = subject\n",
    "#         self.shape = mask.shape\n",
    "#         self.order = order\n",
    "    \n",
    "#     def view_betas(self,condition_indices,save_to = None, mean=False):\n",
    "#         beta_vol = np.zeros(self.mask.shape+(len(condition_indices),),order=self.order)\n",
    "#         for ii,beta in enumerate(condition_indices):\n",
    "#             cur = self.mask.ravel(order=self.order).copy()\n",
    "#             cur[cur > 0] = self.betas.loc[:,beta]\n",
    "#             beta_vol[:,:,:,ii]=cur.reshape(self.shape,order=self.order)\n",
    "#         if mean:\n",
    "#             beta_vol = np.mean(beta_vol,axis=3)\n",
    "        \n",
    "#         if save_to:\n",
    "#             nib.save(nib.Nifti1Image(beta_vol,affine=np.eye(4)),save_to)\n",
    "#         else:\n",
    "#             return beta_vol\n",
    "    \n",
    "#     def get_condition_stimuli(self, condition_index,output='numpy',image_size=False):       \n",
    "#         try:\n",
    "#             img = Image.open(self.stim_df.iloc[condition_index,'image_name']).resize(image_size)\n",
    "#         except:\n",
    "#             img = Image.open(self.stim_df.iloc[stim_dx,'image_name'])\n",
    "#         if output == 'numpy':\n",
    "#             img = np.array(img)\n",
    "#         return img  \n",
    "    \n",
    "#     def get_stimuli_with(self,stim_col,col_contains):\n",
    "#         '''\n",
    "#         get_stimuli_with(stim_col,col_contains)\n",
    "#         returns index of all stimuli with \"col_contains\" in the stim_column\n",
    "#         example: all imagery runs = get_stimuli_with('run', 'img')\n",
    "#         '''\n",
    "#         n_stim = self.stim.shape[0]\n",
    "#         row_func = lambda row: col_contains in row\n",
    "#         return self.stim.loc[self.stim[stim_col].apply(row_func),:]\n",
    "    \n",
    "#     def run_wise_z_score(self,in_place=False):        \n",
    "#         zscore = lambda row: (row - row.mean()) / row.std()\n",
    "#         if not in_place:\n",
    "#             z_score_df = self.betas.copy()\n",
    "#         else:\n",
    "#             z_score_df = self.betas\n",
    "#         runs = self.stim.groupby(by=['run'])\n",
    "#         for name,grp in runs:\n",
    "#             idx = self.get_stimuli_with('run',name).index           \n",
    "#             z_score_df.iloc[:,idx]= z_score_df.iloc[:,idx].apply(zscore,axis=1)\n",
    "#         if not in_place:\n",
    "#             return z_score_df"
   ]
  },
  {
   "cell_type": "code",
   "execution_count": null,
   "metadata": {
    "collapsed": false
   },
   "outputs": [],
   "source": [
    "saving_spot = '/media/tnaselar/Data/scratch/'"
   ]
  },
  {
   "cell_type": "code",
   "execution_count": null,
   "metadata": {
    "collapsed": true
   },
   "outputs": [],
   "source": [
    "####with z-score\n",
    "# beta_path = '/musc.repo/Data/jesse/imagery_RF/brainthresh99_0_05_with_Zscore/betas/'\n",
    "# file_exp = '%s_all_runs_BETAs_w_zscore.mat'\n",
    "\n",
    "####withOUT z-score\n",
    "# beta_path = '/musc.repo/Data/jesse/imagery_RF/brainthresh99_0_05_withOUT_Zscore/betas/'\n",
    "# file_exp = '%s_all_runs_BETAs_no_zs.mat'\n",
    "\n",
    "####jesse's pipeline\n",
    "beta_path = '/musc.repo/Data/jesse/imagery_RF/glmd_new_preproc_undistort_slicetime/after_fnirt/betas/'#'/media/tnaselar/Data/imagery_rf.2014/betas/'\n",
    "file_exp = '%s_all_runs_BETAs_canonicalHRF.mat'"
   ]
  },
  {
   "cell_type": "code",
   "execution_count": null,
   "metadata": {
    "collapsed": true
   },
   "outputs": [],
   "source": [
    "\n",
    "subject = 'CO'\n",
    "\n",
    "stim_loc = '/musc.repo/mri/7T.cmrr/Presentation/imagery.rf.7T.July.2014/'\n",
    "cond_file_path = '/musc.repo/Data/jesse/imagery_RF/glmd_new_preproc_undistort_slicetime/condit_names/%s_condit_names.mat' %(subject)\n",
    "\n",
    "mask_path = '/musc.repo/Data/jesse/imagery_RF/glmd_new_preproc_undistort_slicetime/brain_masks/%s_mean_func_brain_mask.nii.gz' %(subject)\n",
    "\n",
    "#'/media/tnaselar/Data/imagery_rf.2014/masks/%s_mask.nii.gz' "
   ]
  },
  {
   "cell_type": "code",
   "execution_count": null,
   "metadata": {
    "collapsed": false
   },
   "outputs": [],
   "source": [
    "beta_df = load_betas_from_mat_file(join(beta_path,file_exp) %(subject))\n",
    "stim_df = load_stim_from_mat_file(cond_file_path,stim_loc)\n",
    "mask = load_mask_from_nii(mask_path)"
   ]
  },
  {
   "cell_type": "code",
   "execution_count": null,
   "metadata": {
    "collapsed": false
   },
   "outputs": [],
   "source": [
    "print 'volume dimensions: %s' %(mask.shape,)\n",
    "print 'number of voxels: %d' %(np.sum(mask))"
   ]
  },
  {
   "cell_type": "code",
   "execution_count": null,
   "metadata": {
    "collapsed": true
   },
   "outputs": [],
   "source": [
    "fMRI = imagery_rf_dataset(subject, beta_df, stim_df, mask)"
   ]
  },
  {
   "cell_type": "code",
   "execution_count": null,
   "metadata": {
    "collapsed": false,
    "scrolled": true
   },
   "outputs": [],
   "source": [
    "fMRI.stim.head(8*8)"
   ]
  },
  {
   "cell_type": "code",
   "execution_count": null,
   "metadata": {
    "collapsed": false,
    "scrolled": true
   },
   "outputs": [],
   "source": [
    "fMRI.get_stimuli_with('category', 'vehicle')"
   ]
  },
  {
   "cell_type": "code",
   "execution_count": null,
   "metadata": {
    "collapsed": false,
    "scrolled": true
   },
   "outputs": [],
   "source": [
    "img = fMRI.get_condition_stimuli(0, image_size=(256,256))"
   ]
  },
  {
   "cell_type": "code",
   "execution_count": null,
   "metadata": {
    "collapsed": true
   },
   "outputs": [],
   "source": [
    "fMRI.stim['category'].value_counts().plot(kind='bar')"
   ]
  },
  {
   "cell_type": "code",
   "execution_count": null,
   "metadata": {
    "collapsed": false
   },
   "outputs": [],
   "source": [
    "plt.imshow(img)"
   ]
  },
  {
   "cell_type": "code",
   "execution_count": null,
   "metadata": {
    "collapsed": false
   },
   "outputs": [],
   "source": [
    "img_idx = fMRI.get_stimuli_with('run','img').index\n",
    "pcp_idx = fMRI.get_stimuli_with('run','pcp').index"
   ]
  },
  {
   "cell_type": "code",
   "execution_count": null,
   "metadata": {
    "collapsed": false
   },
   "outputs": [],
   "source": [
    "fMRI.view_betas(img_idx, save_to = saving_spot+'img_mean_'+subject, mean=True)"
   ]
  },
  {
   "cell_type": "code",
   "execution_count": null,
   "metadata": {
    "collapsed": false
   },
   "outputs": [],
   "source": [
    "print np.sum(fMRI.mask.ravel())\n",
    "print fMRI.betas.shape"
   ]
  },
  {
   "cell_type": "code",
   "execution_count": null,
   "metadata": {
    "collapsed": true
   },
   "outputs": [],
   "source": [
    "fMRI.view_betas(pcp_idx, save_to = saving_spot+'pcp_mean_'+subject, mean=True)"
   ]
  },
  {
   "cell_type": "code",
   "execution_count": null,
   "metadata": {
    "collapsed": false
   },
   "outputs": [],
   "source": [
    "fMRI.view_betas(img_idx, save_to = saving_spot+'img_timeseries'+subject, mean=False)"
   ]
  },
  {
   "cell_type": "code",
   "execution_count": null,
   "metadata": {
    "collapsed": true
   },
   "outputs": [],
   "source": [
    "fMRI.view_betas(pcp_idx, save_to = saving_spot+'pcp_timeseries'+subject, mean=False)"
   ]
  },
  {
   "cell_type": "code",
   "execution_count": null,
   "metadata": {
    "collapsed": false
   },
   "outputs": [],
   "source": [
    "pcp_b = fMRI.view_betas(pcp_idx, mean=True)"
   ]
  },
  {
   "cell_type": "code",
   "execution_count": null,
   "metadata": {
    "collapsed": false
   },
   "outputs": [],
   "source": [
    "img_b = fMRI.view_betas(img_idx, mean=True)"
   ]
  },
  {
   "cell_type": "code",
   "execution_count": null,
   "metadata": {
    "collapsed": false
   },
   "outputs": [],
   "source": [
    "rng = np.linspace(-1000, 1000, 100)\n",
    "plt.plot(pcp_b.ravel(), img_b.ravel(), '.')\n",
    "plt.plot(rng, rng, 'k')\n",
    "plt.axes().set_aspect(1)"
   ]
  },
  {
   "cell_type": "code",
   "execution_count": null,
   "metadata": {
    "collapsed": true
   },
   "outputs": [],
   "source": []
  }
 ],
 "metadata": {
  "kernelspec": {
   "display_name": "Python 2",
   "language": "python",
   "name": "python2"
  },
  "language_info": {
   "codemirror_mode": {
    "name": "ipython",
    "version": 2
   },
   "file_extension": ".py",
   "mimetype": "text/x-python",
   "name": "python",
   "nbconvert_exporter": "python",
   "pygments_lexer": "ipython2",
   "version": "2.7.11"
  }
 },
 "nbformat": 4,
 "nbformat_minor": 0
}
