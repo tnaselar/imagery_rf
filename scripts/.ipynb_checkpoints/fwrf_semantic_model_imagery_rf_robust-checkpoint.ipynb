{
 "cells": [
  {
   "cell_type": "markdown",
   "metadata": {},
   "source": [
    "## Fwrf gabor model, 2014 imagery.rf data\n",
    "Using robust validation procedure.\n"
   ]
  },
  {
   "cell_type": "code",
   "execution_count": 1,
   "metadata": {
    "collapsed": false
   },
   "outputs": [
    {
     "name": "stderr",
     "output_type": "stream",
     "text": [
      "Using gpu device 0: GeForce GTX TITAN X\n"
     ]
    }
   ],
   "source": [
    "import numpy as np\n",
    "import pandas as pd\n",
    "import h5py\n",
    "import nibabel as nib\n",
    "import matplotlib.pyplot as plt\n",
    "import pickle\n",
    "from glob import glob\n",
    "from PIL import Image\n",
    "from imagery_rf_field.src.glmd_betas import *\n",
    "from os.path import join\n",
    "from time import time\n",
    "from glob import glob\n",
    "from scipy.io import loadmat\n",
    "from scipy.stats import pearsonr\n",
    "from hrf_fitting.src.feature_weighted_rf_models import make_rf_table,receptive_fields, model_space, prediction_menu, bigmult\n",
    "from hrf_fitting.src.feature_weighted_rf_models import leave_k_out_training, split_em_up\n",
    "from hrf_fitting.src.gabor_feature_dictionaries import gabor_feature_maps\n",
    "from math import atan2, degrees\n",
    "from IPython.display import Image as ipyImage\n",
    "\n",
    "# %load_ext autoreload\n",
    "# %autoreload 2\n",
    "# %matplotlib inline"
   ]
  },
  {
   "cell_type": "markdown",
   "metadata": {},
   "source": [
    "### Step 0: load data"
   ]
  },
  {
   "cell_type": "markdown",
   "metadata": {},
   "source": [
    "#### find data files"
   ]
  },
  {
   "cell_type": "code",
   "execution_count": 2,
   "metadata": {
    "collapsed": false
   },
   "outputs": [],
   "source": [
    "saving_spot = '/media/tnaselar/Data/scratch/'\n",
    "\n",
    "####with z-score\n",
    "# beta_path = '/musc.repo/Data/jesse/imagery_RF/brainthresh99_0_05_with_Zscore/betas/'\n",
    "# file_exp = '%s_all_runs_BETAs_w_zscore.mat'\n",
    "\n",
    "####withOUT z-score\n",
    "beta_path = '/musc.repo/Data/jesse/imagery_RF/brainthresh99_0_05_withOUT_Zscore/betas/'\n",
    "file_exp = '%s_all_runs_BETAs_no_zs.mat'\n",
    "subject = 'CO'\n",
    "stim_loc = '/musc.repo/mri/7T.cmrr/Presentation/imagery.rf.7T.July.2014/'\n",
    "cond_file_path = '/musc.repo/Data/jesse/imagery_RF/brainthresh99_0_05_withOUT_Zscore/condit_names/%s_condit_names.mat' %(subject)\n",
    "mask_path = '/media/tnaselar/Data/imagery_rf.2014/masks/%s_mask.nii.gz' %(subject)\n",
    "print '==============+++++++++========SUBJECT: %s' %(subject)"
   ]
  },
  {
   "cell_type": "markdown",
   "metadata": {},
   "source": [
    "#### load data"
   ]
  },
  {
   "cell_type": "code",
   "execution_count": 3,
   "metadata": {
    "collapsed": true
   },
   "outputs": [],
   "source": [
    "beta_df = load_betas_from_mat_file(join(beta_path,file_exp) %(subject))\n",
    "mask = load_mask_from_nii(mask_path)"
   ]
  },
  {
   "cell_type": "code",
   "execution_count": 4,
   "metadata": {
    "collapsed": true
   },
   "outputs": [],
   "source": [
    "stim_df = load_stim_from_mat_file(cond_file_path,stim_loc)"
   ]
  },
  {
   "cell_type": "code",
   "execution_count": 5,
   "metadata": {
    "collapsed": true
   },
   "outputs": [],
   "source": [
    "mask = load_mask_from_nii(mask_path)"
   ]
  },
  {
   "cell_type": "code",
   "execution_count": 6,
   "metadata": {
    "collapsed": false
   },
   "outputs": [
    {
     "name": "stdout",
     "output_type": "stream",
     "text": [
      "volume dimensions: (130, 130, 70)\n",
      "number of voxels: 432342\n"
     ]
    }
   ],
   "source": [
    "print 'volume dimensions: %s' %(mask.shape,)\n",
    "print 'number of voxels: %d' %(np.sum(mask))"
   ]
  },
  {
   "cell_type": "markdown",
   "metadata": {},
   "source": [
    "#### instantiate simple class to gather all the data together"
   ]
  },
  {
   "cell_type": "code",
   "execution_count": 7,
   "metadata": {
    "collapsed": true
   },
   "outputs": [],
   "source": [
    "fMRI = imagery_rf_dataset(subject, beta_df, stim_df, mask)"
   ]
  },
  {
   "cell_type": "markdown",
   "metadata": {},
   "source": [
    "#### eyeball description of each condition"
   ]
  },
  {
   "cell_type": "code",
   "execution_count": 8,
   "metadata": {
    "collapsed": false,
    "scrolled": true
   },
   "outputs": [
    {
     "data": {
      "text/html": [
       "<div>\n",
       "<table border=\"1\" class=\"dataframe\">\n",
       "  <thead>\n",
       "    <tr style=\"text-align: right;\">\n",
       "      <th></th>\n",
       "      <th>run</th>\n",
       "      <th>category</th>\n",
       "      <th>object_name</th>\n",
       "      <th>location</th>\n",
       "      <th>image_name</th>\n",
       "    </tr>\n",
       "  </thead>\n",
       "  <tbody>\n",
       "    <tr>\n",
       "      <th>0</th>\n",
       "      <td>1img</td>\n",
       "      <td>vehicle</td>\n",
       "      <td>fire_truck</td>\n",
       "      <td>north</td>\n",
       "      <td>/musc.repo/mri/7T.cmrr/Presentation/imagery.rf...</td>\n",
       "    </tr>\n",
       "    <tr>\n",
       "      <th>1</th>\n",
       "      <td>1img</td>\n",
       "      <td>bird</td>\n",
       "      <td>birds</td>\n",
       "      <td>southeast</td>\n",
       "      <td>/musc.repo/mri/7T.cmrr/Presentation/imagery.rf...</td>\n",
       "    </tr>\n",
       "    <tr>\n",
       "      <th>2</th>\n",
       "      <td>1img</td>\n",
       "      <td>few_humans</td>\n",
       "      <td>baby</td>\n",
       "      <td>east</td>\n",
       "      <td>/musc.repo/mri/7T.cmrr/Presentation/imagery.rf...</td>\n",
       "    </tr>\n",
       "    <tr>\n",
       "      <th>3</th>\n",
       "      <td>1img</td>\n",
       "      <td>few_humans</td>\n",
       "      <td>baby</td>\n",
       "      <td>west</td>\n",
       "      <td>/musc.repo/mri/7T.cmrr/Presentation/imagery.rf...</td>\n",
       "    </tr>\n",
       "    <tr>\n",
       "      <th>4</th>\n",
       "      <td>1img</td>\n",
       "      <td>few_humans</td>\n",
       "      <td>baby</td>\n",
       "      <td>southwest</td>\n",
       "      <td>/musc.repo/mri/7T.cmrr/Presentation/imagery.rf...</td>\n",
       "    </tr>\n",
       "    <tr>\n",
       "      <th>5</th>\n",
       "      <td>1img</td>\n",
       "      <td>many_humans</td>\n",
       "      <td>audience</td>\n",
       "      <td>south</td>\n",
       "      <td>/musc.repo/mri/7T.cmrr/Presentation/imagery.rf...</td>\n",
       "    </tr>\n",
       "    <tr>\n",
       "      <th>6</th>\n",
       "      <td>1img</td>\n",
       "      <td>part_of_building</td>\n",
       "      <td>building</td>\n",
       "      <td>east</td>\n",
       "      <td>/musc.repo/mri/7T.cmrr/Presentation/imagery.rf...</td>\n",
       "    </tr>\n",
       "    <tr>\n",
       "      <th>7</th>\n",
       "      <td>1img</td>\n",
       "      <td>few_humans</td>\n",
       "      <td>baby</td>\n",
       "      <td>northeast</td>\n",
       "      <td>/musc.repo/mri/7T.cmrr/Presentation/imagery.rf...</td>\n",
       "    </tr>\n",
       "    <tr>\n",
       "      <th>8</th>\n",
       "      <td>1img</td>\n",
       "      <td>bird</td>\n",
       "      <td>birds</td>\n",
       "      <td>southwest</td>\n",
       "      <td>/musc.repo/mri/7T.cmrr/Presentation/imagery.rf...</td>\n",
       "    </tr>\n",
       "    <tr>\n",
       "      <th>9</th>\n",
       "      <td>1img</td>\n",
       "      <td>many_humans</td>\n",
       "      <td>audience</td>\n",
       "      <td>northeast</td>\n",
       "      <td>/musc.repo/mri/7T.cmrr/Presentation/imagery.rf...</td>\n",
       "    </tr>\n",
       "    <tr>\n",
       "      <th>10</th>\n",
       "      <td>1img</td>\n",
       "      <td>creepy_animal</td>\n",
       "      <td>ants</td>\n",
       "      <td>south</td>\n",
       "      <td>/musc.repo/mri/7T.cmrr/Presentation/imagery.rf...</td>\n",
       "    </tr>\n",
       "    <tr>\n",
       "      <th>11</th>\n",
       "      <td>1img</td>\n",
       "      <td>few_humans</td>\n",
       "      <td>baby</td>\n",
       "      <td>northwest</td>\n",
       "      <td>/musc.repo/mri/7T.cmrr/Presentation/imagery.rf...</td>\n",
       "    </tr>\n",
       "    <tr>\n",
       "      <th>12</th>\n",
       "      <td>1img</td>\n",
       "      <td>water</td>\n",
       "      <td>water</td>\n",
       "      <td>north</td>\n",
       "      <td>/musc.repo/mri/7T.cmrr/Presentation/imagery.rf...</td>\n",
       "    </tr>\n",
       "    <tr>\n",
       "      <th>13</th>\n",
       "      <td>1img</td>\n",
       "      <td>water</td>\n",
       "      <td>water</td>\n",
       "      <td>southeast</td>\n",
       "      <td>/musc.repo/mri/7T.cmrr/Presentation/imagery.rf...</td>\n",
       "    </tr>\n",
       "    <tr>\n",
       "      <th>14</th>\n",
       "      <td>1img</td>\n",
       "      <td>creepy_animal</td>\n",
       "      <td>ants</td>\n",
       "      <td>southwest</td>\n",
       "      <td>/musc.repo/mri/7T.cmrr/Presentation/imagery.rf...</td>\n",
       "    </tr>\n",
       "    <tr>\n",
       "      <th>15</th>\n",
       "      <td>1img</td>\n",
       "      <td>few_humans</td>\n",
       "      <td>baby</td>\n",
       "      <td>north</td>\n",
       "      <td>/musc.repo/mri/7T.cmrr/Presentation/imagery.rf...</td>\n",
       "    </tr>\n",
       "    <tr>\n",
       "      <th>16</th>\n",
       "      <td>1img</td>\n",
       "      <td>few_humans</td>\n",
       "      <td>baby</td>\n",
       "      <td>south</td>\n",
       "      <td>/musc.repo/mri/7T.cmrr/Presentation/imagery.rf...</td>\n",
       "    </tr>\n",
       "    <tr>\n",
       "      <th>17</th>\n",
       "      <td>1img</td>\n",
       "      <td>vehicle</td>\n",
       "      <td>fire_truck</td>\n",
       "      <td>southwest</td>\n",
       "      <td>/musc.repo/mri/7T.cmrr/Presentation/imagery.rf...</td>\n",
       "    </tr>\n",
       "    <tr>\n",
       "      <th>18</th>\n",
       "      <td>1img</td>\n",
       "      <td>part_of_building</td>\n",
       "      <td>building</td>\n",
       "      <td>north</td>\n",
       "      <td>/musc.repo/mri/7T.cmrr/Presentation/imagery.rf...</td>\n",
       "    </tr>\n",
       "    <tr>\n",
       "      <th>19</th>\n",
       "      <td>1img</td>\n",
       "      <td>vehicle</td>\n",
       "      <td>fire_truck</td>\n",
       "      <td>west</td>\n",
       "      <td>/musc.repo/mri/7T.cmrr/Presentation/imagery.rf...</td>\n",
       "    </tr>\n",
       "    <tr>\n",
       "      <th>20</th>\n",
       "      <td>1img</td>\n",
       "      <td>many_humans</td>\n",
       "      <td>audience</td>\n",
       "      <td>north</td>\n",
       "      <td>/musc.repo/mri/7T.cmrr/Presentation/imagery.rf...</td>\n",
       "    </tr>\n",
       "    <tr>\n",
       "      <th>21</th>\n",
       "      <td>1img</td>\n",
       "      <td>water</td>\n",
       "      <td>water</td>\n",
       "      <td>northwest</td>\n",
       "      <td>/musc.repo/mri/7T.cmrr/Presentation/imagery.rf...</td>\n",
       "    </tr>\n",
       "    <tr>\n",
       "      <th>22</th>\n",
       "      <td>1img</td>\n",
       "      <td>vehicle</td>\n",
       "      <td>fire_truck</td>\n",
       "      <td>southeast</td>\n",
       "      <td>/musc.repo/mri/7T.cmrr/Presentation/imagery.rf...</td>\n",
       "    </tr>\n",
       "    <tr>\n",
       "      <th>23</th>\n",
       "      <td>1img</td>\n",
       "      <td>part_of_building</td>\n",
       "      <td>building</td>\n",
       "      <td>west</td>\n",
       "      <td>/musc.repo/mri/7T.cmrr/Presentation/imagery.rf...</td>\n",
       "    </tr>\n",
       "    <tr>\n",
       "      <th>24</th>\n",
       "      <td>1img</td>\n",
       "      <td>part_of_building</td>\n",
       "      <td>building</td>\n",
       "      <td>northwest</td>\n",
       "      <td>/musc.repo/mri/7T.cmrr/Presentation/imagery.rf...</td>\n",
       "    </tr>\n",
       "    <tr>\n",
       "      <th>25</th>\n",
       "      <td>1img</td>\n",
       "      <td>other_plants</td>\n",
       "      <td>coral</td>\n",
       "      <td>southwest</td>\n",
       "      <td>/musc.repo/mri/7T.cmrr/Presentation/imagery.rf...</td>\n",
       "    </tr>\n",
       "    <tr>\n",
       "      <th>26</th>\n",
       "      <td>1img</td>\n",
       "      <td>bird</td>\n",
       "      <td>birds</td>\n",
       "      <td>northeast</td>\n",
       "      <td>/musc.repo/mri/7T.cmrr/Presentation/imagery.rf...</td>\n",
       "    </tr>\n",
       "    <tr>\n",
       "      <th>27</th>\n",
       "      <td>1img</td>\n",
       "      <td>other_plants</td>\n",
       "      <td>coral</td>\n",
       "      <td>east</td>\n",
       "      <td>/musc.repo/mri/7T.cmrr/Presentation/imagery.rf...</td>\n",
       "    </tr>\n",
       "    <tr>\n",
       "      <th>28</th>\n",
       "      <td>1img</td>\n",
       "      <td>water</td>\n",
       "      <td>water</td>\n",
       "      <td>south</td>\n",
       "      <td>/musc.repo/mri/7T.cmrr/Presentation/imagery.rf...</td>\n",
       "    </tr>\n",
       "    <tr>\n",
       "      <th>29</th>\n",
       "      <td>1img</td>\n",
       "      <td>creepy_animal</td>\n",
       "      <td>ants</td>\n",
       "      <td>southeast</td>\n",
       "      <td>/musc.repo/mri/7T.cmrr/Presentation/imagery.rf...</td>\n",
       "    </tr>\n",
       "    <tr>\n",
       "      <th>...</th>\n",
       "      <td>...</td>\n",
       "      <td>...</td>\n",
       "      <td>...</td>\n",
       "      <td>...</td>\n",
       "      <td>...</td>\n",
       "    </tr>\n",
       "    <tr>\n",
       "      <th>42</th>\n",
       "      <td>1img</td>\n",
       "      <td>bird</td>\n",
       "      <td>birds</td>\n",
       "      <td>south</td>\n",
       "      <td>/musc.repo/mri/7T.cmrr/Presentation/imagery.rf...</td>\n",
       "    </tr>\n",
       "    <tr>\n",
       "      <th>43</th>\n",
       "      <td>1img</td>\n",
       "      <td>many_humans</td>\n",
       "      <td>audience</td>\n",
       "      <td>west</td>\n",
       "      <td>/musc.repo/mri/7T.cmrr/Presentation/imagery.rf...</td>\n",
       "    </tr>\n",
       "    <tr>\n",
       "      <th>44</th>\n",
       "      <td>1img</td>\n",
       "      <td>part_of_building</td>\n",
       "      <td>building</td>\n",
       "      <td>northeast</td>\n",
       "      <td>/musc.repo/mri/7T.cmrr/Presentation/imagery.rf...</td>\n",
       "    </tr>\n",
       "    <tr>\n",
       "      <th>45</th>\n",
       "      <td>1img</td>\n",
       "      <td>creepy_animal</td>\n",
       "      <td>ants</td>\n",
       "      <td>northeast</td>\n",
       "      <td>/musc.repo/mri/7T.cmrr/Presentation/imagery.rf...</td>\n",
       "    </tr>\n",
       "    <tr>\n",
       "      <th>46</th>\n",
       "      <td>1img</td>\n",
       "      <td>other_plants</td>\n",
       "      <td>coral</td>\n",
       "      <td>northwest</td>\n",
       "      <td>/musc.repo/mri/7T.cmrr/Presentation/imagery.rf...</td>\n",
       "    </tr>\n",
       "    <tr>\n",
       "      <th>47</th>\n",
       "      <td>1img</td>\n",
       "      <td>part_of_building</td>\n",
       "      <td>building</td>\n",
       "      <td>southeast</td>\n",
       "      <td>/musc.repo/mri/7T.cmrr/Presentation/imagery.rf...</td>\n",
       "    </tr>\n",
       "    <tr>\n",
       "      <th>48</th>\n",
       "      <td>1img</td>\n",
       "      <td>other_plants</td>\n",
       "      <td>coral</td>\n",
       "      <td>west</td>\n",
       "      <td>/musc.repo/mri/7T.cmrr/Presentation/imagery.rf...</td>\n",
       "    </tr>\n",
       "    <tr>\n",
       "      <th>49</th>\n",
       "      <td>1img</td>\n",
       "      <td>creepy_animal</td>\n",
       "      <td>ants</td>\n",
       "      <td>east</td>\n",
       "      <td>/musc.repo/mri/7T.cmrr/Presentation/imagery.rf...</td>\n",
       "    </tr>\n",
       "    <tr>\n",
       "      <th>50</th>\n",
       "      <td>1img</td>\n",
       "      <td>bird</td>\n",
       "      <td>birds</td>\n",
       "      <td>east</td>\n",
       "      <td>/musc.repo/mri/7T.cmrr/Presentation/imagery.rf...</td>\n",
       "    </tr>\n",
       "    <tr>\n",
       "      <th>51</th>\n",
       "      <td>1img</td>\n",
       "      <td>many_humans</td>\n",
       "      <td>audience</td>\n",
       "      <td>east</td>\n",
       "      <td>/musc.repo/mri/7T.cmrr/Presentation/imagery.rf...</td>\n",
       "    </tr>\n",
       "    <tr>\n",
       "      <th>52</th>\n",
       "      <td>1img</td>\n",
       "      <td>bird</td>\n",
       "      <td>birds</td>\n",
       "      <td>north</td>\n",
       "      <td>/musc.repo/mri/7T.cmrr/Presentation/imagery.rf...</td>\n",
       "    </tr>\n",
       "    <tr>\n",
       "      <th>53</th>\n",
       "      <td>1img</td>\n",
       "      <td>many_humans</td>\n",
       "      <td>audience</td>\n",
       "      <td>northwest</td>\n",
       "      <td>/musc.repo/mri/7T.cmrr/Presentation/imagery.rf...</td>\n",
       "    </tr>\n",
       "    <tr>\n",
       "      <th>54</th>\n",
       "      <td>1img</td>\n",
       "      <td>other_plants</td>\n",
       "      <td>coral</td>\n",
       "      <td>southeast</td>\n",
       "      <td>/musc.repo/mri/7T.cmrr/Presentation/imagery.rf...</td>\n",
       "    </tr>\n",
       "    <tr>\n",
       "      <th>55</th>\n",
       "      <td>1img</td>\n",
       "      <td>part_of_building</td>\n",
       "      <td>building</td>\n",
       "      <td>southwest</td>\n",
       "      <td>/musc.repo/mri/7T.cmrr/Presentation/imagery.rf...</td>\n",
       "    </tr>\n",
       "    <tr>\n",
       "      <th>56</th>\n",
       "      <td>1img</td>\n",
       "      <td>water</td>\n",
       "      <td>water</td>\n",
       "      <td>east</td>\n",
       "      <td>/musc.repo/mri/7T.cmrr/Presentation/imagery.rf...</td>\n",
       "    </tr>\n",
       "    <tr>\n",
       "      <th>57</th>\n",
       "      <td>1img</td>\n",
       "      <td>bird</td>\n",
       "      <td>birds</td>\n",
       "      <td>northwest</td>\n",
       "      <td>/musc.repo/mri/7T.cmrr/Presentation/imagery.rf...</td>\n",
       "    </tr>\n",
       "    <tr>\n",
       "      <th>58</th>\n",
       "      <td>1img</td>\n",
       "      <td>vehicle</td>\n",
       "      <td>fire_truck</td>\n",
       "      <td>northeast</td>\n",
       "      <td>/musc.repo/mri/7T.cmrr/Presentation/imagery.rf...</td>\n",
       "    </tr>\n",
       "    <tr>\n",
       "      <th>59</th>\n",
       "      <td>1img</td>\n",
       "      <td>part_of_building</td>\n",
       "      <td>building</td>\n",
       "      <td>south</td>\n",
       "      <td>/musc.repo/mri/7T.cmrr/Presentation/imagery.rf...</td>\n",
       "    </tr>\n",
       "    <tr>\n",
       "      <th>60</th>\n",
       "      <td>1img</td>\n",
       "      <td>water</td>\n",
       "      <td>water</td>\n",
       "      <td>northeast</td>\n",
       "      <td>/musc.repo/mri/7T.cmrr/Presentation/imagery.rf...</td>\n",
       "    </tr>\n",
       "    <tr>\n",
       "      <th>61</th>\n",
       "      <td>1img</td>\n",
       "      <td>other_plants</td>\n",
       "      <td>coral</td>\n",
       "      <td>south</td>\n",
       "      <td>/musc.repo/mri/7T.cmrr/Presentation/imagery.rf...</td>\n",
       "    </tr>\n",
       "    <tr>\n",
       "      <th>62</th>\n",
       "      <td>1img</td>\n",
       "      <td>creepy_animal</td>\n",
       "      <td>ants</td>\n",
       "      <td>west</td>\n",
       "      <td>/musc.repo/mri/7T.cmrr/Presentation/imagery.rf...</td>\n",
       "    </tr>\n",
       "    <tr>\n",
       "      <th>63</th>\n",
       "      <td>1img</td>\n",
       "      <td>water</td>\n",
       "      <td>water</td>\n",
       "      <td>west</td>\n",
       "      <td>/musc.repo/mri/7T.cmrr/Presentation/imagery.rf...</td>\n",
       "    </tr>\n",
       "    <tr>\n",
       "      <th>64</th>\n",
       "      <td>1pcp</td>\n",
       "      <td>vehicle</td>\n",
       "      <td>fire_truck</td>\n",
       "      <td>north</td>\n",
       "      <td>/musc.repo/mri/7T.cmrr/Presentation/imagery.rf...</td>\n",
       "    </tr>\n",
       "    <tr>\n",
       "      <th>65</th>\n",
       "      <td>1pcp</td>\n",
       "      <td>bird</td>\n",
       "      <td>birds</td>\n",
       "      <td>southeast</td>\n",
       "      <td>/musc.repo/mri/7T.cmrr/Presentation/imagery.rf...</td>\n",
       "    </tr>\n",
       "    <tr>\n",
       "      <th>66</th>\n",
       "      <td>1pcp</td>\n",
       "      <td>few_humans</td>\n",
       "      <td>baby</td>\n",
       "      <td>east</td>\n",
       "      <td>/musc.repo/mri/7T.cmrr/Presentation/imagery.rf...</td>\n",
       "    </tr>\n",
       "    <tr>\n",
       "      <th>67</th>\n",
       "      <td>1pcp</td>\n",
       "      <td>few_humans</td>\n",
       "      <td>baby</td>\n",
       "      <td>west</td>\n",
       "      <td>/musc.repo/mri/7T.cmrr/Presentation/imagery.rf...</td>\n",
       "    </tr>\n",
       "    <tr>\n",
       "      <th>68</th>\n",
       "      <td>1pcp</td>\n",
       "      <td>few_humans</td>\n",
       "      <td>baby</td>\n",
       "      <td>southwest</td>\n",
       "      <td>/musc.repo/mri/7T.cmrr/Presentation/imagery.rf...</td>\n",
       "    </tr>\n",
       "    <tr>\n",
       "      <th>69</th>\n",
       "      <td>1pcp</td>\n",
       "      <td>many_humans</td>\n",
       "      <td>audience</td>\n",
       "      <td>south</td>\n",
       "      <td>/musc.repo/mri/7T.cmrr/Presentation/imagery.rf...</td>\n",
       "    </tr>\n",
       "    <tr>\n",
       "      <th>70</th>\n",
       "      <td>1pcp</td>\n",
       "      <td>part_of_building</td>\n",
       "      <td>building</td>\n",
       "      <td>east</td>\n",
       "      <td>/musc.repo/mri/7T.cmrr/Presentation/imagery.rf...</td>\n",
       "    </tr>\n",
       "    <tr>\n",
       "      <th>71</th>\n",
       "      <td>1pcp</td>\n",
       "      <td>few_humans</td>\n",
       "      <td>baby</td>\n",
       "      <td>northeast</td>\n",
       "      <td>/musc.repo/mri/7T.cmrr/Presentation/imagery.rf...</td>\n",
       "    </tr>\n",
       "  </tbody>\n",
       "</table>\n",
       "<p>72 rows × 5 columns</p>\n",
       "</div>"
      ],
      "text/plain": [
       "     run          category object_name   location  \\\n",
       "0   1img           vehicle  fire_truck      north   \n",
       "1   1img              bird       birds  southeast   \n",
       "2   1img        few_humans        baby       east   \n",
       "3   1img        few_humans        baby       west   \n",
       "4   1img        few_humans        baby  southwest   \n",
       "5   1img       many_humans    audience      south   \n",
       "6   1img  part_of_building    building       east   \n",
       "7   1img        few_humans        baby  northeast   \n",
       "8   1img              bird       birds  southwest   \n",
       "9   1img       many_humans    audience  northeast   \n",
       "10  1img     creepy_animal        ants      south   \n",
       "11  1img        few_humans        baby  northwest   \n",
       "12  1img             water       water      north   \n",
       "13  1img             water       water  southeast   \n",
       "14  1img     creepy_animal        ants  southwest   \n",
       "15  1img        few_humans        baby      north   \n",
       "16  1img        few_humans        baby      south   \n",
       "17  1img           vehicle  fire_truck  southwest   \n",
       "18  1img  part_of_building    building      north   \n",
       "19  1img           vehicle  fire_truck       west   \n",
       "20  1img       many_humans    audience      north   \n",
       "21  1img             water       water  northwest   \n",
       "22  1img           vehicle  fire_truck  southeast   \n",
       "23  1img  part_of_building    building       west   \n",
       "24  1img  part_of_building    building  northwest   \n",
       "25  1img      other_plants       coral  southwest   \n",
       "26  1img              bird       birds  northeast   \n",
       "27  1img      other_plants       coral       east   \n",
       "28  1img             water       water      south   \n",
       "29  1img     creepy_animal        ants  southeast   \n",
       "..   ...               ...         ...        ...   \n",
       "42  1img              bird       birds      south   \n",
       "43  1img       many_humans    audience       west   \n",
       "44  1img  part_of_building    building  northeast   \n",
       "45  1img     creepy_animal        ants  northeast   \n",
       "46  1img      other_plants       coral  northwest   \n",
       "47  1img  part_of_building    building  southeast   \n",
       "48  1img      other_plants       coral       west   \n",
       "49  1img     creepy_animal        ants       east   \n",
       "50  1img              bird       birds       east   \n",
       "51  1img       many_humans    audience       east   \n",
       "52  1img              bird       birds      north   \n",
       "53  1img       many_humans    audience  northwest   \n",
       "54  1img      other_plants       coral  southeast   \n",
       "55  1img  part_of_building    building  southwest   \n",
       "56  1img             water       water       east   \n",
       "57  1img              bird       birds  northwest   \n",
       "58  1img           vehicle  fire_truck  northeast   \n",
       "59  1img  part_of_building    building      south   \n",
       "60  1img             water       water  northeast   \n",
       "61  1img      other_plants       coral      south   \n",
       "62  1img     creepy_animal        ants       west   \n",
       "63  1img             water       water       west   \n",
       "64  1pcp           vehicle  fire_truck      north   \n",
       "65  1pcp              bird       birds  southeast   \n",
       "66  1pcp        few_humans        baby       east   \n",
       "67  1pcp        few_humans        baby       west   \n",
       "68  1pcp        few_humans        baby  southwest   \n",
       "69  1pcp       many_humans    audience      south   \n",
       "70  1pcp  part_of_building    building       east   \n",
       "71  1pcp        few_humans        baby  northeast   \n",
       "\n",
       "                                           image_name  \n",
       "0   /musc.repo/mri/7T.cmrr/Presentation/imagery.rf...  \n",
       "1   /musc.repo/mri/7T.cmrr/Presentation/imagery.rf...  \n",
       "2   /musc.repo/mri/7T.cmrr/Presentation/imagery.rf...  \n",
       "3   /musc.repo/mri/7T.cmrr/Presentation/imagery.rf...  \n",
       "4   /musc.repo/mri/7T.cmrr/Presentation/imagery.rf...  \n",
       "5   /musc.repo/mri/7T.cmrr/Presentation/imagery.rf...  \n",
       "6   /musc.repo/mri/7T.cmrr/Presentation/imagery.rf...  \n",
       "7   /musc.repo/mri/7T.cmrr/Presentation/imagery.rf...  \n",
       "8   /musc.repo/mri/7T.cmrr/Presentation/imagery.rf...  \n",
       "9   /musc.repo/mri/7T.cmrr/Presentation/imagery.rf...  \n",
       "10  /musc.repo/mri/7T.cmrr/Presentation/imagery.rf...  \n",
       "11  /musc.repo/mri/7T.cmrr/Presentation/imagery.rf...  \n",
       "12  /musc.repo/mri/7T.cmrr/Presentation/imagery.rf...  \n",
       "13  /musc.repo/mri/7T.cmrr/Presentation/imagery.rf...  \n",
       "14  /musc.repo/mri/7T.cmrr/Presentation/imagery.rf...  \n",
       "15  /musc.repo/mri/7T.cmrr/Presentation/imagery.rf...  \n",
       "16  /musc.repo/mri/7T.cmrr/Presentation/imagery.rf...  \n",
       "17  /musc.repo/mri/7T.cmrr/Presentation/imagery.rf...  \n",
       "18  /musc.repo/mri/7T.cmrr/Presentation/imagery.rf...  \n",
       "19  /musc.repo/mri/7T.cmrr/Presentation/imagery.rf...  \n",
       "20  /musc.repo/mri/7T.cmrr/Presentation/imagery.rf...  \n",
       "21  /musc.repo/mri/7T.cmrr/Presentation/imagery.rf...  \n",
       "22  /musc.repo/mri/7T.cmrr/Presentation/imagery.rf...  \n",
       "23  /musc.repo/mri/7T.cmrr/Presentation/imagery.rf...  \n",
       "24  /musc.repo/mri/7T.cmrr/Presentation/imagery.rf...  \n",
       "25  /musc.repo/mri/7T.cmrr/Presentation/imagery.rf...  \n",
       "26  /musc.repo/mri/7T.cmrr/Presentation/imagery.rf...  \n",
       "27  /musc.repo/mri/7T.cmrr/Presentation/imagery.rf...  \n",
       "28  /musc.repo/mri/7T.cmrr/Presentation/imagery.rf...  \n",
       "29  /musc.repo/mri/7T.cmrr/Presentation/imagery.rf...  \n",
       "..                                                ...  \n",
       "42  /musc.repo/mri/7T.cmrr/Presentation/imagery.rf...  \n",
       "43  /musc.repo/mri/7T.cmrr/Presentation/imagery.rf...  \n",
       "44  /musc.repo/mri/7T.cmrr/Presentation/imagery.rf...  \n",
       "45  /musc.repo/mri/7T.cmrr/Presentation/imagery.rf...  \n",
       "46  /musc.repo/mri/7T.cmrr/Presentation/imagery.rf...  \n",
       "47  /musc.repo/mri/7T.cmrr/Presentation/imagery.rf...  \n",
       "48  /musc.repo/mri/7T.cmrr/Presentation/imagery.rf...  \n",
       "49  /musc.repo/mri/7T.cmrr/Presentation/imagery.rf...  \n",
       "50  /musc.repo/mri/7T.cmrr/Presentation/imagery.rf...  \n",
       "51  /musc.repo/mri/7T.cmrr/Presentation/imagery.rf...  \n",
       "52  /musc.repo/mri/7T.cmrr/Presentation/imagery.rf...  \n",
       "53  /musc.repo/mri/7T.cmrr/Presentation/imagery.rf...  \n",
       "54  /musc.repo/mri/7T.cmrr/Presentation/imagery.rf...  \n",
       "55  /musc.repo/mri/7T.cmrr/Presentation/imagery.rf...  \n",
       "56  /musc.repo/mri/7T.cmrr/Presentation/imagery.rf...  \n",
       "57  /musc.repo/mri/7T.cmrr/Presentation/imagery.rf...  \n",
       "58  /musc.repo/mri/7T.cmrr/Presentation/imagery.rf...  \n",
       "59  /musc.repo/mri/7T.cmrr/Presentation/imagery.rf...  \n",
       "60  /musc.repo/mri/7T.cmrr/Presentation/imagery.rf...  \n",
       "61  /musc.repo/mri/7T.cmrr/Presentation/imagery.rf...  \n",
       "62  /musc.repo/mri/7T.cmrr/Presentation/imagery.rf...  \n",
       "63  /musc.repo/mri/7T.cmrr/Presentation/imagery.rf...  \n",
       "64  /musc.repo/mri/7T.cmrr/Presentation/imagery.rf...  \n",
       "65  /musc.repo/mri/7T.cmrr/Presentation/imagery.rf...  \n",
       "66  /musc.repo/mri/7T.cmrr/Presentation/imagery.rf...  \n",
       "67  /musc.repo/mri/7T.cmrr/Presentation/imagery.rf...  \n",
       "68  /musc.repo/mri/7T.cmrr/Presentation/imagery.rf...  \n",
       "69  /musc.repo/mri/7T.cmrr/Presentation/imagery.rf...  \n",
       "70  /musc.repo/mri/7T.cmrr/Presentation/imagery.rf...  \n",
       "71  /musc.repo/mri/7T.cmrr/Presentation/imagery.rf...  \n",
       "\n",
       "[72 rows x 5 columns]"
      ]
     },
     "execution_count": 8,
     "metadata": {},
     "output_type": "execute_result"
    }
   ],
   "source": [
    "fMRI.stim.head(72)"
   ]
  },
  {
   "cell_type": "markdown",
   "metadata": {},
   "source": [
    "#### look at one of the stimuli"
   ]
  },
  {
   "cell_type": "code",
   "execution_count": 9,
   "metadata": {
    "collapsed": false
   },
   "outputs": [
    {
     "name": "stdout",
     "output_type": "stream",
     "text": [
      "/musc.repo/mri/7T.cmrr/Presentation/imagery.rf.7T.July.2014/imagery_005/frame_files/000718.006.02.image.png\n",
      "audience\n",
      "southwest\n"
     ]
    },
    {
     "data": {
      "image/png": "[encoded data removed]",
      "text/plain": [
       "<matplotlib.figure.Figure at 0x7f7ec7de5690>"
      ]
     },
     "metadata": {},
     "output_type": "display_data"
    }
   ],
   "source": [
    "cond_dx = 512\n",
    "img = fMRI.get_condition_stimuli(cond_dx)\n",
    "plt.imshow(img)\n",
    "print fMRI.stim.loc[cond_dx,'image_name']\n",
    "print fMRI.stim.loc[cond_dx,'object_name']\n",
    "print fMRI.stim.loc[cond_dx,'location']"
   ]
  },
  {
   "cell_type": "markdown",
   "metadata": {},
   "source": [
    "#### separate out the imagery and perception indices"
   ]
  },
  {
   "cell_type": "code",
   "execution_count": 10,
   "metadata": {
    "collapsed": false
   },
   "outputs": [
    {
     "name": "stdout",
     "output_type": "stream",
     "text": [
      "number of imagery stimuli: 512\n",
      "number of perception stimuli: 512\n"
     ]
    }
   ],
   "source": [
    "idx = {}\n",
    "idx['img'] = fMRI.get_stimuli_with('run','img').index\n",
    "idx['pcp'] = fMRI.get_stimuli_with('run','pcp').index\n",
    "\n",
    "\n",
    "print 'number of imagery stimuli: %d' %(len(idx['img']))\n",
    "print 'number of perception stimuli: %d' %(len(idx['pcp']))"
   ]
  },
  {
   "cell_type": "markdown",
   "metadata": {
    "collapsed": true
   },
   "source": [
    "### Step 1: specify gabor features"
   ]
  },
  {
   "cell_type": "markdown",
   "metadata": {},
   "source": [
    "#### calculate deg_per_stimulus"
   ]
  },
  {
   "cell_type": "code",
   "execution_count": 11,
   "metadata": {
    "collapsed": false
   },
   "outputs": [
    {
     "name": "stdout",
     "output_type": "stream",
     "text": [
      "27.324889 pixels correspond to one degree\n",
      "The size of the stimulus is 600 pixels and 21.958003465 visual degrees\n"
     ]
    }
   ],
   "source": [
    "native_stim_size = 600  ##pixels\n",
    "viewing_distance = 100 ##cm\n",
    "viewing_area = 38.8 ##cm\n",
    "\n",
    "# Calculate the number of degrees that correspond to a single pixel. This will\n",
    "# generally be a very small value, something like 0.03.\n",
    "deg_per_px = degrees(atan2(.5*viewing_area, viewing_distance)) / (.5*native_stim_size)\n",
    "print '%f pixels correspond to one degree' % (1./deg_per_px)\n",
    "# Calculate the size of the stimulus in degrees\n",
    "size_in_deg = native_stim_size * deg_per_px\n",
    "print 'The size of the stimulus is %s pixels and %s visual degrees' % (native_stim_size, size_in_deg)\n",
    "\n"
   ]
  },
  {
   "cell_type": "markdown",
   "metadata": {},
   "source": [
    "#### design gabor wavelets"
   ]
  },
  {
   "cell_type": "code",
   "execution_count": 12,
   "metadata": {
    "collapsed": false
   },
   "outputs": [
    {
     "name": "stdout",
     "output_type": "stream",
     "text": [
      "D = total number of features = 12\n"
     ]
    }
   ],
   "source": [
    "n_orientations = 4\n",
    "deg_per_stimulus = 21.958\n",
    "lowest_sp_freq = .114 ##cyc/deg\n",
    "highest_sp_freq = 4.0\n",
    "num_sp_freq = 3\n",
    "pix_per_cycle = 2.13333333\n",
    "complex_cell = True\n",
    "n_colors = 1 ##let's do grayscale first\n",
    "diams_per_filter = 4\n",
    "cycles_per_radius = 2.0\n",
    "\n",
    "print 'D = total number of features = %d' %(n_orientations * num_sp_freq)"
   ]
  },
  {
   "cell_type": "code",
   "execution_count": 13,
   "metadata": {
    "collapsed": true
   },
   "outputs": [],
   "source": [
    "gfm = gabor_feature_maps(n_orientations,\n",
    "                         deg_per_stimulus,\n",
    "                         (lowest_sp_freq,highest_sp_freq,num_sp_freq),\n",
    "                         pix_per_cycle=pix_per_cycle,complex_cell=complex_cell,\n",
    "                         diams_per_filter = diams_per_filter,\n",
    "                         cycles_per_radius = cycles_per_radius,\n",
    "                         color_channels=n_colors)"
   ]
  },
  {
   "cell_type": "code",
   "execution_count": 14,
   "metadata": {
    "collapsed": false,
    "scrolled": true
   },
   "outputs": [
    {
     "data": {
      "text/html": [
       "<div>\n",
       "<table border=\"1\" class=\"dataframe\">\n",
       "  <thead>\n",
       "    <tr style=\"text-align: right;\">\n",
       "      <th></th>\n",
       "      <th>cycles per deg.</th>\n",
       "      <th>cycles_per_filter</th>\n",
       "      <th>filter size (deg.)</th>\n",
       "      <th>pix per stimulus</th>\n",
       "      <th>pix_per_filter</th>\n",
       "      <th>radius of Gauss. envelope (deg)</th>\n",
       "      <th>orientation</th>\n",
       "    </tr>\n",
       "  </thead>\n",
       "  <tbody>\n",
       "    <tr>\n",
       "      <th>0</th>\n",
       "      <td>0.114000</td>\n",
       "      <td>16</td>\n",
       "      <td>140.350877</td>\n",
       "      <td>5.340186</td>\n",
       "      <td>34</td>\n",
       "      <td>17.543860</td>\n",
       "      <td>0.000000</td>\n",
       "    </tr>\n",
       "    <tr>\n",
       "      <th>1</th>\n",
       "      <td>0.675278</td>\n",
       "      <td>16</td>\n",
       "      <td>23.693955</td>\n",
       "      <td>31.632529</td>\n",
       "      <td>34</td>\n",
       "      <td>2.961744</td>\n",
       "      <td>0.000000</td>\n",
       "    </tr>\n",
       "    <tr>\n",
       "      <th>2</th>\n",
       "      <td>4.000000</td>\n",
       "      <td>16</td>\n",
       "      <td>4.000000</td>\n",
       "      <td>187.374933</td>\n",
       "      <td>34</td>\n",
       "      <td>0.500000</td>\n",
       "      <td>0.000000</td>\n",
       "    </tr>\n",
       "    <tr>\n",
       "      <th>3</th>\n",
       "      <td>0.114000</td>\n",
       "      <td>16</td>\n",
       "      <td>140.350877</td>\n",
       "      <td>5.340186</td>\n",
       "      <td>34</td>\n",
       "      <td>17.543860</td>\n",
       "      <td>0.785398</td>\n",
       "    </tr>\n",
       "    <tr>\n",
       "      <th>4</th>\n",
       "      <td>0.675278</td>\n",
       "      <td>16</td>\n",
       "      <td>23.693955</td>\n",
       "      <td>31.632529</td>\n",
       "      <td>34</td>\n",
       "      <td>2.961744</td>\n",
       "      <td>0.785398</td>\n",
       "    </tr>\n",
       "    <tr>\n",
       "      <th>5</th>\n",
       "      <td>4.000000</td>\n",
       "      <td>16</td>\n",
       "      <td>4.000000</td>\n",
       "      <td>187.374933</td>\n",
       "      <td>34</td>\n",
       "      <td>0.500000</td>\n",
       "      <td>0.785398</td>\n",
       "    </tr>\n",
       "    <tr>\n",
       "      <th>6</th>\n",
       "      <td>0.114000</td>\n",
       "      <td>16</td>\n",
       "      <td>140.350877</td>\n",
       "      <td>5.340186</td>\n",
       "      <td>34</td>\n",
       "      <td>17.543860</td>\n",
       "      <td>1.570796</td>\n",
       "    </tr>\n",
       "    <tr>\n",
       "      <th>7</th>\n",
       "      <td>0.675278</td>\n",
       "      <td>16</td>\n",
       "      <td>23.693955</td>\n",
       "      <td>31.632529</td>\n",
       "      <td>34</td>\n",
       "      <td>2.961744</td>\n",
       "      <td>1.570796</td>\n",
       "    </tr>\n",
       "    <tr>\n",
       "      <th>8</th>\n",
       "      <td>4.000000</td>\n",
       "      <td>16</td>\n",
       "      <td>4.000000</td>\n",
       "      <td>187.374933</td>\n",
       "      <td>34</td>\n",
       "      <td>0.500000</td>\n",
       "      <td>1.570796</td>\n",
       "    </tr>\n",
       "  </tbody>\n",
       "</table>\n",
       "</div>"
      ],
      "text/plain": [
       "   cycles per deg.  cycles_per_filter  filter size (deg.)  pix per stimulus  \\\n",
       "0         0.114000                 16          140.350877          5.340186   \n",
       "1         0.675278                 16           23.693955         31.632529   \n",
       "2         4.000000                 16            4.000000        187.374933   \n",
       "3         0.114000                 16          140.350877          5.340186   \n",
       "4         0.675278                 16           23.693955         31.632529   \n",
       "5         4.000000                 16            4.000000        187.374933   \n",
       "6         0.114000                 16          140.350877          5.340186   \n",
       "7         0.675278                 16           23.693955         31.632529   \n",
       "8         4.000000                 16            4.000000        187.374933   \n",
       "\n",
       "   pix_per_filter  radius of Gauss. envelope (deg)  orientation  \n",
       "0              34                        17.543860     0.000000  \n",
       "1              34                         2.961744     0.000000  \n",
       "2              34                         0.500000     0.000000  \n",
       "3              34                        17.543860     0.785398  \n",
       "4              34                         2.961744     0.785398  \n",
       "5              34                         0.500000     0.785398  \n",
       "6              34                        17.543860     1.570796  \n",
       "7              34                         2.961744     1.570796  \n",
       "8              34                         0.500000     1.570796  "
      ]
     },
     "execution_count": 14,
     "metadata": {},
     "output_type": "execute_result"
    }
   ],
   "source": [
    "gfm.gbr_table.head(9)"
   ]
  },
  {
   "cell_type": "code",
   "execution_count": 15,
   "metadata": {
    "collapsed": false
   },
   "outputs": [
    {
     "data": {
      "text/plain": [
       "(12, 1, 34, 34)"
      ]
     },
     "execution_count": 15,
     "metadata": {},
     "output_type": "execute_result"
    }
   ],
   "source": [
    "gfm.filter_stack.shape"
   ]
  },
  {
   "cell_type": "code",
   "execution_count": 16,
   "metadata": {
    "collapsed": false
   },
   "outputs": [
    {
     "data": {
      "text/plain": [
       "<matplotlib.image.AxesImage at 0x7f7e5208bb90>"
      ]
     },
     "execution_count": 16,
     "metadata": {},
     "output_type": "execute_result"
    },
    {
     "data": {
      "image/png": "[encoded data removed]",
      "text/plain": [
       "<matplotlib.figure.Figure at 0x7f7ec7d702d0>"
      ]
     },
     "metadata": {},
     "output_type": "display_data"
    }
   ],
   "source": [
    "o =  1##choose an orientation\n",
    "plt.imshow(np.imag(gfm.filter_stack[o,0,:,:]), cmap='gray')"
   ]
  },
  {
   "cell_type": "markdown",
   "metadata": {},
   "source": [
    "### Step 2: Design receptive field grid"
   ]
  },
  {
   "cell_type": "code",
   "execution_count": 86,
   "metadata": {
    "collapsed": false
   },
   "outputs": [],
   "source": [
    "deg_per_radius = (1., 9., 4) ##rf sizes in degrees (smallest, largest, number of sizes)\n",
    "spacing = 3.2 ##spacing between rf's in degrees\n",
    "rf = receptive_fields(deg_per_stimulus,deg_per_radius,spacing)"
   ]
  },
  {
   "cell_type": "code",
   "execution_count": 87,
   "metadata": {
    "collapsed": false,
    "scrolled": true
   },
   "outputs": [
    {
     "data": {
      "text/plain": [
       "array([ 1.        ,  3.66666667,  6.33333333,  9.        ])"
      ]
     },
     "execution_count": 87,
     "metadata": {},
     "output_type": "execute_result"
    }
   ],
   "source": [
    "rf.rf_table.deg_per_radius.unique()"
   ]
  },
  {
   "cell_type": "code",
   "execution_count": 88,
   "metadata": {
    "collapsed": false
   },
   "outputs": [
    {
     "name": "stdout",
     "output_type": "stream",
     "text": [
      "G = number of rf models = 144\n"
     ]
    }
   ],
   "source": [
    "print 'G = number of rf models = %d' %(rf.rf_table.shape[0])"
   ]
  },
  {
   "cell_type": "markdown",
   "metadata": {},
   "source": [
    "### Step 3: Construct a model space"
   ]
  },
  {
   "cell_type": "markdown",
   "metadata": {},
   "source": [
    "#### specify activation function"
   ]
  },
  {
   "cell_type": "code",
   "execution_count": 20,
   "metadata": {
    "collapsed": true
   },
   "outputs": [],
   "source": [
    "def log_act_func(x):\n",
    "    return np.log(1+np.sqrt(x))\n"
   ]
  },
  {
   "cell_type": "markdown",
   "metadata": {},
   "source": [
    "#### instantiate a model space object"
   ]
  },
  {
   "cell_type": "code",
   "execution_count": 21,
   "metadata": {
    "collapsed": false,
    "scrolled": true
   },
   "outputs": [
    {
     "name": "stdout",
     "output_type": "stream",
     "text": [
      "allocating memory for feature maps\n",
      "constructing feature maps\n",
      "feature 0 took 0.008319 s.\n",
      "feature 1 took 0.003051 s.\n",
      "feature 2 took 0.008890 s.\n",
      "feature 3 took 0.001344 s.\n",
      "feature 4 took 0.001646 s.\n",
      "feature 5 took 0.005182 s.\n",
      "feature 6 took 0.000934 s.\n",
      "feature 7 took 0.001632 s.\n",
      "feature 8 took 0.005144 s.\n",
      "feature 9 took 0.000932 s.\n",
      "feature 10 took 0.001637 s.\n",
      "feature 11 took 0.005145 s.\n"
     ]
    }
   ],
   "source": [
    "##just read in one image for now to create the feature dictionary that will initiate the model_space object\n",
    "if n_colors < 3:\n",
    "    ##np.newaxis,np.newaxis = time,color\n",
    "    init_image = np.array(fMRI.get_condition_stimuli(0,output = 'PIL').convert('L'))[np.newaxis,np.newaxis] \n",
    "else:\n",
    "    init_image = fMRI.get_condition_stimuli(0)\n",
    "    init_image = np.rollaxis(init_image,axis=2,start=0)[np.newaxis] ##<<newaxis for time only\n",
    "\n",
    "init_feature_dict = gfm.create_feature_maps(init_image)"
   ]
  },
  {
   "cell_type": "code",
   "execution_count": 22,
   "metadata": {
    "collapsed": false
   },
   "outputs": [
    {
     "data": {
      "text/plain": [
       "(1, 1, 600, 600)"
      ]
     },
     "execution_count": 22,
     "metadata": {},
     "output_type": "execute_result"
    }
   ],
   "source": [
    "init_image.shape"
   ]
  },
  {
   "cell_type": "code",
   "execution_count": 23,
   "metadata": {
    "collapsed": false
   },
   "outputs": [],
   "source": [
    "ms = {}\n",
    "ms['pcp'] = model_space(init_feature_dict, rf, activation_function = log_act_func)\n",
    "ms['img'] = model_space(init_feature_dict, rf, activation_function = log_act_func)"
   ]
  },
  {
   "cell_type": "markdown",
   "metadata": {},
   "source": [
    "### Step 4: load up all stimuli at the max feature resolution"
   ]
  },
  {
   "cell_type": "code",
   "execution_count": 24,
   "metadata": {
    "collapsed": false
   },
   "outputs": [],
   "source": [
    "max_feature_res = np.max(ms['pcp'].feature_resolutions.values())\n",
    "\n",
    "load_stim_func = lambda dx: np.array(fMRI.get_condition_stimuli(dx,output = 'PIL',image_size=(max_feature_res,max_feature_res)).convert('L'))[np.newaxis,np.newaxis] "
   ]
  },
  {
   "cell_type": "code",
   "execution_count": 25,
   "metadata": {
    "collapsed": false
   },
   "outputs": [
    {
     "data": {
      "text/plain": [
       "(1, 1, 187, 187)"
      ]
     },
     "execution_count": 25,
     "metadata": {},
     "output_type": "execute_result"
    }
   ],
   "source": [
    "load_stim_func(0).shape"
   ]
  },
  {
   "cell_type": "code",
   "execution_count": 26,
   "metadata": {
    "collapsed": false
   },
   "outputs": [],
   "source": [
    "stimuli = {}\n",
    "stimuli['pcp'] = np.concatenate(map(load_stim_func,\n",
    "                                 idx['pcp']),\n",
    "                             axis=0)\n"
   ]
  },
  {
   "cell_type": "code",
   "execution_count": 27,
   "metadata": {
    "collapsed": false
   },
   "outputs": [
    {
     "data": {
      "text/plain": [
       "<matplotlib.image.AxesImage at 0x7f7e51fe44d0>"
      ]
     },
     "execution_count": 27,
     "metadata": {},
     "output_type": "execute_result"
    },
    {
     "data": {
      "image/png": "[encoded data removed]",
      "text/plain": [
       "<matplotlib.figure.Figure at 0x7f7ec32720d0>"
      ]
     },
     "metadata": {},
     "output_type": "display_data"
    }
   ],
   "source": [
    "plt.imshow(stimuli['pcp'][0,0,:,:], cmap='gray')"
   ]
  },
  {
   "cell_type": "code",
   "execution_count": 28,
   "metadata": {
    "collapsed": false
   },
   "outputs": [],
   "source": [
    "stimuli['img'] = np.concatenate(map(load_stim_func,\n",
    "                                 idx['img']),\n",
    "                             axis=0)"
   ]
  },
  {
   "cell_type": "code",
   "execution_count": 29,
   "metadata": {
    "collapsed": false
   },
   "outputs": [
    {
     "data": {
      "text/plain": [
       "<matplotlib.image.AxesImage at 0x7f7ec216ca50>"
      ]
     },
     "execution_count": 29,
     "metadata": {},
     "output_type": "execute_result"
    },
    {
     "data": {
      "image/png": "[encoded data removed]",
      "text/plain": [
       "<matplotlib.figure.Figure at 0x7f7e52036610>"
      ]
     },
     "metadata": {},
     "output_type": "display_data"
    }
   ],
   "source": [
    "plt.imshow(stimuli['img'][0,0,:,:],cmap='gray')"
   ]
  },
  {
   "cell_type": "markdown",
   "metadata": {},
   "source": [
    "### Step 5: train the perception and imagery models"
   ]
  },
  {
   "cell_type": "markdown",
   "metadata": {},
   "source": [
    "#### train/test split"
   ]
  },
  {
   "cell_type": "code",
   "execution_count": 30,
   "metadata": {
    "collapsed": true
   },
   "outputs": [],
   "source": [
    "val_frac = 0.04687  ##24\n",
    "nvox = fMRI.betas.shape[0]\n",
    "n_resamples = 10 ##for a total of 240 validation samples"
   ]
  },
  {
   "cell_type": "markdown",
   "metadata": {},
   "source": [
    "#### train the model!"
   ]
  },
  {
   "cell_type": "code",
   "execution_count": null,
   "metadata": {
    "collapsed": true
   },
   "outputs": [],
   "source": [
    "state_list = ['img', 'pcp']\n",
    "\n",
    "mst = {}\n",
    "params = {}\n",
    "pred = {}\n",
    "val_cc = {}\n",
    "val_idx = {}\n",
    "trn_idx = {}\n",
    "for state in state_list: #[pcp', 'img']:\n",
    "    params[state] = {}\n",
    "    print '==========================================================%s' %(state)\n",
    "    ##build feature diction. overwrite across state\n",
    "    feature_dict = gfm.create_feature_maps(stimuli[state])\n",
    "    ##build model space tensor\n",
    "    mst[state] = ms[state].construct_model_space_tensor(feature_dict, normalize=False)\n",
    "    mst[state] = ms[state].normalize_model_space_tensor(mst[state],save=True)\n",
    "    voxel_data = fMRI.betas[0:nvox, idx[state]].T\n",
    "    val_idx[state] = split_em_up(len(idx[state]),val_frac,n_resamples)\n",
    "    \n",
    "\n",
    "    trn_idx[state], params[state] = leave_k_out_training(val_idx[state],\n",
    "                                                         mst[state],\n",
    "                                                         voxel_data,\n",
    "                                                         initial_feature_weights='zeros',\n",
    "                                                         voxel_binsize = 25000,\n",
    "                                                         rf_grid_binsize=10,\n",
    "                                                         learning_rate=10**(-5.),\n",
    "                                                         max_iters = 75,\n",
    "                                                         early_stop_fraction=0.05,\n",
    "                                                         report_every = 25)\n",
    "    ##generate predictions\n",
    "    Tval = len(val_idx[state][0])\n",
    "    pred[state] = np.zeros((Tval*n_resamples,nvox))\n",
    "    val_cc[state] = np.zeros(nvox)\n",
    "\n",
    "    for val_iter in val_idx[state].keys():\n",
    "        frf = params[state][val_iter]['frf']\n",
    "        ffw = params[state][val_iter]['ffw']\n",
    "        \n",
    "        for v in range(nvox): \n",
    "            pred[state][(val_iter*Tval):(val_iter*Tval+Tval),v] = np.squeeze(bigmult(mst[state][np.newaxis,frf[v],val_idx[state][val_iter],:],\n",
    "                                           ffw[np.newaxis,:,v, np.newaxis]))\n",
    "    \n",
    "    total_val_idx = np.concatenate(val_idx[state].values()).astype('int')    \n",
    "    for v in range(nvox): \n",
    "        val_cc[state][v] = np.nan_to_num(pearsonr(voxel_data[total_val_idx,v],pred[state][:,v])[0])"
   ]
  },
  {
   "cell_type": "markdown",
   "metadata": {},
   "source": [
    "#### save it"
   ]
  },
  {
   "cell_type": "code",
   "execution_count": 39,
   "metadata": {
    "collapsed": false
   },
   "outputs": [],
   "source": [
    "saving_place = '/media/tnaselar/Data/imagery_rf.2014/model_runs/'\n",
    "\n",
    "for ii,state in enumerate(state_list):\n",
    "    saving_file = 'model_space_'+'fwrf_gabor_robust_'+state+'_'+subject+'.p'\n",
    "    ms[state].params = params[state]\n",
    "    ms[state].val_cc = val_cc[state]\n",
    "#     ms[state].activation_function = act_func\n",
    "    pickle.dump(ms[state], open( join(saving_place, saving_file), \"wb\"))"
   ]
  },
  {
   "cell_type": "markdown",
   "metadata": {},
   "source": [
    "### Step 6: analysis"
   ]
  },
  {
   "cell_type": "markdown",
   "metadata": {},
   "source": [
    "#### loss history"
   ]
  },
  {
   "cell_type": "code",
   "execution_count": null,
   "metadata": {
    "collapsed": false,
    "scrolled": true
   },
   "outputs": [],
   "source": [
    "skip = 10\n",
    "for ii,state in enumerate(state_list):\n",
    "    beh = params[state][0]['beh']\n",
    "    plt.subplot(1,2,ii+1)\n",
    "    plt.title(state)\n",
    "    diff = beh[:,slice(0,-1,skip)]-beh[0,slice(0,-1,skip)]\n",
    "    _=plt.plot(diff)\n",
    "    plt.ylim([np.min(diff.ravel()),np.max(diff.ravel())])\n",
    "plt.tight_layout()"
   ]
  },
  {
   "cell_type": "code",
   "execution_count": null,
   "metadata": {
    "collapsed": false
   },
   "outputs": [],
   "source": [
    "for ii,state in enumerate(state_list):\n",
    "    beh = params[state][0]['beh']\n",
    "    plt.subplot(1,2,ii+1)\n",
    "    plt.title(state)\n",
    "    _=plt.hist(np.nan_to_num(beh[0,:]-np.min(beh,axis=0)),100)\n",
    "    plt.yscale('log')"
   ]
  },
  {
   "cell_type": "markdown",
   "metadata": {},
   "source": [
    "#### rf's"
   ]
  },
  {
   "cell_type": "code",
   "execution_count": 46,
   "metadata": {
    "collapsed": false
   },
   "outputs": [
    {
     "data": {
      "image/png": "[encoded data removed]",
      "text/plain": [
       "<matplotlib.figure.Figure at 0x7f7ec21456d0>"
      ]
     },
     "metadata": {},
     "output_type": "display_data"
    }
   ],
   "source": [
    "for ii,state in enumerate(state_list):\n",
    "    frf = params[state][0]['frf']\n",
    "    plt.subplot(1,2,ii+1)\n",
    "    _=plt.hist(frf,ms[state].receptive_fields.G)\n",
    "    plt.xlabel('smaller-->bigger')\n",
    "    plt.title(state)"
   ]
  },
  {
   "cell_type": "code",
   "execution_count": null,
   "metadata": {
    "collapsed": false,
    "scrolled": true
   },
   "outputs": [],
   "source": [
    "for ii,state in enumerate(state_list):\n",
    "    frf = params[state][0]['frf']\n",
    "    plt.subplot(1,2,ii+1)\n",
    "    plt.title(state)\n",
    "    plt.imshow(np.sum(ms[state].receptive_fields.make_rf_stack(64, min_pix_per_radius=1)[frf,:,:], axis=0), cmap='hot')"
   ]
  },
  {
   "cell_type": "markdown",
   "metadata": {},
   "source": [
    "#### prediction accuracy histograms"
   ]
  },
  {
   "cell_type": "code",
   "execution_count": null,
   "metadata": {
    "collapsed": true
   },
   "outputs": [],
   "source": [
    "####USE THIS TO LOAD UP A SAVED MST FOR VAL_CC ANALYSIS\n",
    "# saving_place = '/media/tnaselar/Data/imagery_rf.2014/model_runs/'\n",
    "# mst={}\n",
    "# for ii,state in enumerate(['pcp','img']):\n",
    "#     saving_file = 'model_space_'+'fwrf_gabor_robust_'+state+'_'+'CO'+'.p'\n",
    "#     mst[state]=pickle.load(open( join(saving_place, saving_file), \"r\"))\n",
    "    \n",
    "# val_cc['pcp'] = mst['pcp'].val_cc\n",
    "# val_cc['img'] = mst['img'].val_cc"
   ]
  },
  {
   "cell_type": "code",
   "execution_count": 95,
   "metadata": {
    "collapsed": false
   },
   "outputs": [
    {
     "name": "stdout",
     "output_type": "stream",
     "text": [
      "number of voxels with cc > 0.250000, pcp: 1083\n",
      "number of voxels with cc > 0.250000, img: 47\n"
     ]
    },
    {
     "data": {
      "image/png": "[encoded data removed]",
      "text/plain": [
       "<matplotlib.figure.Figure at 0x7f7ec1d45b50>"
      ]
     },
     "metadata": {},
     "output_type": "display_data"
    }
   ],
   "source": [
    "\n",
    "count_thresh = .25\n",
    "plt.figure(figsize = (10,5))\n",
    "for ii,state in enumerate(state_list):#, 'img']):\n",
    "    plt.subplot(2,1,ii+1)\n",
    "    _=plt.hist(val_cc[state],100)\n",
    "    plt.yscale('log')\n",
    "    plt.ylim([10**0, 10**5])\n",
    "    plt.xlim([-.5, 1.])\n",
    "    plt.title(state)\n",
    "    print 'number of voxels with cc > %f, %s: %d' %(count_thresh,state,np.sum(map(lambda x: x > count_thresh, val_cc[state])))"
   ]
  },
  {
   "cell_type": "code",
   "execution_count": 98,
   "metadata": {
    "collapsed": false
   },
   "outputs": [
    {
     "data": {
      "text/plain": [
       "<matplotlib.legend.Legend at 0x7f7ec20d2c10>"
      ]
     },
     "execution_count": 98,
     "metadata": {},
     "output_type": "execute_result"
    },
    {
     "data": {
      "image/png": "[encoded data removed]",
      "text/plain": [
       "<matplotlib.figure.Figure at 0x7f7e4e3b7410>"
      ]
     },
     "metadata": {},
     "output_type": "display_data"
    }
   ],
   "source": [
    "plt.figure(figsize = (10,5))\n",
    "for ii,state in enumerate(state_list):\n",
    "    values, base = np.histogram(val_cc[state], bins=100)\n",
    "    #evaluate the cumulative\n",
    "    cumulative = np.cumsum(values)\n",
    "    # plot the cumulative function\n",
    "    plt.plot(base[:-1], cumulative, hold=True,label=state, linewidth=3)#     plt.yscale('log')\n",
    "#     plt.ylim([10**0, 10**4])\n",
    "#     plt.xlim([-1, 1.])\n",
    "    \n",
    "plt.legend(loc='best')    "
   ]
  },
  {
   "cell_type": "markdown",
   "metadata": {},
   "source": [
    "#### prediction accuracy head-to-head"
   ]
  },
  {
   "cell_type": "code",
   "execution_count": 97,
   "metadata": {
    "collapsed": false,
    "scrolled": false
   },
   "outputs": [
    {
     "data": {
      "image/png": "[encoded data removed]",
      "text/plain": [
       "<matplotlib.figure.Figure at 0x7f7e4e31e2d0>"
      ]
     },
     "metadata": {},
     "output_type": "display_data"
    }
   ],
   "source": [
    "if ('pcp' in state_list) & ('img' in state_list):\n",
    "    plt.figure(figsize=(10,10))\n",
    "    rng = np.linspace(-.6, .6, num=50)\n",
    "    plt.plot(val_cc['pcp'], val_cc['img'], '.');\n",
    "    plt.ylabel('img')\n",
    "    plt.xlabel('pcp')\n",
    "    plt.plot(rng, rng)\n",
    "    plt.axes().set_aspect(1)\n",
    "    plt.xlim([-1, 1])\n",
    "    plt.ylim([-1, 1])"
   ]
  },
  {
   "cell_type": "markdown",
   "metadata": {},
   "source": [
    "#### prediction accuracy volumes"
   ]
  },
  {
   "cell_type": "code",
   "execution_count": null,
   "metadata": {
    "collapsed": true
   },
   "outputs": [],
   "source": [
    "def view_vol_data(data_object, data_vol,save_to = None):\n",
    "    cur = data_object.mask.ravel(order=data_object.order).copy()\n",
    "    cur[cur > 0] = data_vol\n",
    "    view_vol = cur.reshape(data_object.shape,order=data_object.order)\n",
    "    if save_to:\n",
    "        nib.save(nib.Nifti1Image(view_vol,affine=np.eye(4)),save_to)\n",
    "    else:\n",
    "        return view_vol"
   ]
  },
  {
   "cell_type": "code",
   "execution_count": 35,
   "metadata": {
    "collapsed": true
   },
   "outputs": [],
   "source": [
    "for state in state_list:\n",
    "    view_vol_data(fMRI,val_cc[state], save_to = '/media/tnaselar/Data/scratch/'+state+'_gabor_val_cc_'+subject )"
   ]
  },
  {
   "cell_type": "code",
   "execution_count": null,
   "metadata": {
    "collapsed": false
   },
   "outputs": [],
   "source": [
    "# ipyImage(filename='/home/tnaselar/Dropbox/Manuscripts/imagery.receptive.fields/First.try.pcp.val_cc.TN.png')"
   ]
  },
  {
   "cell_type": "code",
   "execution_count": null,
   "metadata": {
    "collapsed": false
   },
   "outputs": [],
   "source": [
    "# ipyImage(filename='/home/tnaselar/Dropbox/Manuscripts/imagery.receptive.fields/First.imagery.val_cc.TN.png')"
   ]
  }
 ],
 "metadata": {
  "kernelspec": {
   "display_name": "Python 2",
   "language": "python",
   "name": "python2"
  },
  "language_info": {
   "codemirror_mode": {
    "name": "ipython",
    "version": 2
   },
   "file_extension": ".py",
   "mimetype": "text/x-python",
   "name": "python",
   "nbconvert_exporter": "python",
   "pygments_lexer": "ipython2",
   "version": "2.7.11"
  }
 },
 "nbformat": 4,
 "nbformat_minor": 0
}
