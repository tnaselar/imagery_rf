{
 "cells": [
  {
   "cell_type": "markdown",
   "metadata": {},
   "source": [
    "## Fwrf gabor model, 2014 imagery.rf data\n",
    "Using robust validation procedure.\n"
   ]
  },
  {
   "cell_type": "code",
   "execution_count": null,
   "metadata": {
    "collapsed": false
   },
   "outputs": [],
   "source": [
    "import numpy as np\n",
    "import pandas as pd\n",
    "import h5py\n",
    "import nibabel as nib\n",
    "import matplotlib.pyplot as plt\n",
    "import pickle\n",
    "from glob import glob\n",
    "from PIL import Image\n",
    "from imagery_rf_field.src.glmd_betas import *\n",
    "from os.path import join\n",
    "from time import time\n",
    "from glob import glob\n",
    "from scipy.io import loadmat\n",
    "from scipy.stats import pearsonr\n",
    "from hrf_fitting.src.feature_weighted_rf_models import make_rf_table,receptive_fields, model_space, prediction_menu, bigmult\n",
    "from hrf_fitting.src.feature_weighted_rf_models import leave_k_out_training, split_em_up\n",
    "from hrf_fitting.src.gabor_feature_dictionaries import gabor_feature_maps\n",
    "from math import atan2, degrees\n",
    "from IPython.display import Image as ipyImage"
   ]
  },
  {
   "cell_type": "code",
   "execution_count": null,
   "metadata": {
    "collapsed": false
   },
   "outputs": [],
   "source": [
    "# %load_ext autoreload\n",
    "# %autoreload 2\n",
    "# %matplotlib inline"
   ]
  },
  {
   "cell_type": "markdown",
   "metadata": {},
   "source": [
    "### Step 0: load data"
   ]
  },
  {
   "cell_type": "markdown",
   "metadata": {},
   "source": [
    "#### find data files"
   ]
  },
  {
   "cell_type": "code",
   "execution_count": null,
   "metadata": {
    "collapsed": false
   },
   "outputs": [],
   "source": [
    "saving_spot = '/media/tnaselar/Data/scratch/'\n",
    "subject = 'TN'\n",
    "\n",
    "beta_path = '/musc.repo/Data/jesse/imagery_RF/glmd_new_preproc_undistort_slicetime/after_fnirt/betas/'#'/media/tnaselar/Data/imagery_rf.2014/betas/'\n",
    "file_exp = '%s_all_runs_BETAs_canonicalHRF.mat'\n",
    "\n",
    "stim_loc = '/musc.repo/mri/7T.cmrr/Presentation/imagery.rf.7T.July.2014/'\n",
    "cond_file_path = '/musc.repo/Data/jesse/imagery_RF/glmd_new_preproc_undistort_slicetime/condit_names/%s_condit_names.mat' %(subject)\n",
    "\n",
    "mask_path = '/musc.repo/Data/jesse/imagery_RF/glmd_new_preproc_undistort_slicetime/brain_masks/%s_mean_func_brain_mask.nii.gz' %(subject)\n",
    "\n",
    "print '==============+++++++++========SUBJECT: %s' %(subject)"
   ]
  },
  {
   "cell_type": "markdown",
   "metadata": {},
   "source": [
    "#### load data"
   ]
  },
  {
   "cell_type": "code",
   "execution_count": null,
   "metadata": {
    "collapsed": false
   },
   "outputs": [],
   "source": [
    "beta_df = load_betas_from_mat_file(join(beta_path,file_exp) %(subject))\n",
    "mask = load_mask_from_nii(mask_path)"
   ]
  },
  {
   "cell_type": "code",
   "execution_count": null,
   "metadata": {
    "collapsed": true
   },
   "outputs": [],
   "source": [
    "stim_df = load_stim_from_mat_file(cond_file_path,stim_loc)"
   ]
  },
  {
   "cell_type": "code",
   "execution_count": null,
   "metadata": {
    "collapsed": true
   },
   "outputs": [],
   "source": [
    "mask = load_mask_from_nii(mask_path)"
   ]
  },
  {
   "cell_type": "code",
   "execution_count": null,
   "metadata": {
    "collapsed": false
   },
   "outputs": [],
   "source": [
    "print 'volume dimensions: %s' %(mask.shape,)\n",
    "print 'number of voxels: %d' %(np.sum(mask))"
   ]
  },
  {
   "cell_type": "markdown",
   "metadata": {},
   "source": [
    "#### instantiate simple class to gather all the data together"
   ]
  },
  {
   "cell_type": "code",
   "execution_count": null,
   "metadata": {
    "collapsed": true
   },
   "outputs": [],
   "source": [
    "fMRI = imagery_rf_dataset(subject, beta_df, stim_df, mask)"
   ]
  },
  {
   "cell_type": "markdown",
   "metadata": {},
   "source": [
    "#### eyeball description of each condition"
   ]
  },
  {
   "cell_type": "code",
   "execution_count": null,
   "metadata": {
    "collapsed": false,
    "scrolled": true
   },
   "outputs": [],
   "source": [
    "fMRI.stim.head(72)"
   ]
  },
  {
   "cell_type": "markdown",
   "metadata": {},
   "source": [
    "#### look at one of the stimuli"
   ]
  },
  {
   "cell_type": "code",
   "execution_count": null,
   "metadata": {
    "collapsed": false
   },
   "outputs": [],
   "source": [
    "cond_dx = 512\n",
    "img = fMRI.get_condition_stimuli(cond_dx)\n",
    "plt.imshow(img)\n",
    "print fMRI.stim.loc[cond_dx,'image_name']\n",
    "print fMRI.stim.loc[cond_dx,'object_name']\n",
    "print fMRI.stim.loc[cond_dx,'location']"
   ]
  },
  {
   "cell_type": "markdown",
   "metadata": {},
   "source": [
    "#### separate out the imagery and perception indices"
   ]
  },
  {
   "cell_type": "code",
   "execution_count": null,
   "metadata": {
    "collapsed": false
   },
   "outputs": [],
   "source": [
    "idx = {}\n",
    "idx['img'] = fMRI.get_stimuli_with('run','img').index\n",
    "idx['pcp'] = fMRI.get_stimuli_with('run','pcp').index\n",
    "\n",
    "\n",
    "print 'number of imagery stimuli: %d' %(len(idx['img']))\n",
    "print 'number of perception stimuli: %d' %(len(idx['pcp']))"
   ]
  },
  {
   "cell_type": "markdown",
   "metadata": {
    "collapsed": true
   },
   "source": [
    "### Step 1: specify gabor features"
   ]
  },
  {
   "cell_type": "markdown",
   "metadata": {},
   "source": [
    "#### calculate deg_per_stimulus"
   ]
  },
  {
   "cell_type": "code",
   "execution_count": null,
   "metadata": {
    "collapsed": false
   },
   "outputs": [],
   "source": [
    "native_stim_size = 600  ##pixels\n",
    "viewing_distance = 100 ##cm\n",
    "viewing_area = 38.8 ##cm\n",
    "\n",
    "# Calculate the number of degrees that correspond to a single pixel. This will\n",
    "# generally be a very small value, something like 0.03.\n",
    "deg_per_px = degrees(atan2(.5*viewing_area, viewing_distance)) / (.5*native_stim_size)\n",
    "print '%f pixels correspond to one degree' % (1./deg_per_px)\n",
    "# Calculate the size of the stimulus in degrees\n",
    "size_in_deg = native_stim_size * deg_per_px\n",
    "print 'The size of the stimulus is %s pixels and %s visual degrees' % (native_stim_size, size_in_deg)\n",
    "\n"
   ]
  },
  {
   "cell_type": "markdown",
   "metadata": {},
   "source": [
    "#### design gabor wavelets"
   ]
  },
  {
   "cell_type": "code",
   "execution_count": null,
   "metadata": {
    "collapsed": false
   },
   "outputs": [],
   "source": [
    "n_orientations = 4\n",
    "deg_per_stimulus = 21.958\n",
    "lowest_sp_freq = .114 ##cyc/deg\n",
    "highest_sp_freq = 4.5\n",
    "num_sp_freq = 8\n",
    "pix_per_cycle = 4.#2.13333333\n",
    "complex_cell = True\n",
    "n_colors = 1 ##let's do grayscale first\n",
    "diams_per_filter = 4\n",
    "cycles_per_radius = 2.0\n",
    "\n",
    "print 'D = total number of features = %d' %(n_orientations * num_sp_freq)"
   ]
  },
  {
   "cell_type": "code",
   "execution_count": null,
   "metadata": {
    "collapsed": true
   },
   "outputs": [],
   "source": [
    "gfm = gabor_feature_maps(n_orientations,\n",
    "                         deg_per_stimulus,\n",
    "                         (lowest_sp_freq,highest_sp_freq,num_sp_freq),\n",
    "                         pix_per_cycle=pix_per_cycle,complex_cell=complex_cell,\n",
    "                         diams_per_filter = diams_per_filter,\n",
    "                         cycles_per_radius = cycles_per_radius,\n",
    "                         color_channels=n_colors)"
   ]
  },
  {
   "cell_type": "code",
   "execution_count": null,
   "metadata": {
    "collapsed": false,
    "scrolled": true
   },
   "outputs": [],
   "source": [
    "gfm.gbr_table.head(9)"
   ]
  },
  {
   "cell_type": "code",
   "execution_count": null,
   "metadata": {
    "collapsed": false
   },
   "outputs": [],
   "source": [
    "gfm.filter_stack.shape"
   ]
  },
  {
   "cell_type": "code",
   "execution_count": null,
   "metadata": {
    "collapsed": false
   },
   "outputs": [],
   "source": [
    "o =  1##choose an orientation\n",
    "plt.imshow(np.imag(gfm.filter_stack[o,0,:,:]), cmap='gray')"
   ]
  },
  {
   "cell_type": "markdown",
   "metadata": {},
   "source": [
    "### Step 2: Design receptive field grid"
   ]
  },
  {
   "cell_type": "code",
   "execution_count": null,
   "metadata": {
    "collapsed": false
   },
   "outputs": [],
   "source": [
    "deg_per_radius = (1., 10., 4) ##rf sizes in degrees (smallest, largest, number of sizes)\n",
    "spacing = 2. ##spacing between rf's in degrees\n",
    "rf = receptive_fields(deg_per_stimulus,deg_per_radius,spacing)"
   ]
  },
  {
   "cell_type": "code",
   "execution_count": null,
   "metadata": {
    "collapsed": false,
    "scrolled": true
   },
   "outputs": [],
   "source": [
    "rf.rf_table.deg_per_radius.unique()"
   ]
  },
  {
   "cell_type": "code",
   "execution_count": null,
   "metadata": {
    "collapsed": false
   },
   "outputs": [],
   "source": [
    "print 'G = number of rf models = %d' %(rf.rf_table.shape[0])"
   ]
  },
  {
   "cell_type": "markdown",
   "metadata": {},
   "source": [
    "### Step 3: Construct a model space"
   ]
  },
  {
   "cell_type": "markdown",
   "metadata": {},
   "source": [
    "#### specify activation function"
   ]
  },
  {
   "cell_type": "code",
   "execution_count": null,
   "metadata": {
    "collapsed": true
   },
   "outputs": [],
   "source": [
    "def log_act_func(x):\n",
    "    return np.log(1+np.sqrt(x))\n"
   ]
  },
  {
   "cell_type": "markdown",
   "metadata": {},
   "source": [
    "#### instantiate a model space object"
   ]
  },
  {
   "cell_type": "code",
   "execution_count": null,
   "metadata": {
    "collapsed": false,
    "scrolled": true
   },
   "outputs": [],
   "source": [
    "##just read in one image for now to create the feature dictionary that will initiate the model_space object\n",
    "if n_colors < 3:\n",
    "    ##np.newaxis,np.newaxis = time,color\n",
    "    init_image = np.array(fMRI.get_condition_stimuli(0,output = 'PIL').convert('L'))[np.newaxis,np.newaxis] \n",
    "else:\n",
    "    init_image = fMRI.get_condition_stimuli(0)\n",
    "    init_image = np.rollaxis(init_image,axis=2,start=0)[np.newaxis] ##<<newaxis for time only\n",
    "\n",
    "init_feature_dict = gfm.create_feature_maps(init_image)"
   ]
  },
  {
   "cell_type": "code",
   "execution_count": null,
   "metadata": {
    "collapsed": false
   },
   "outputs": [],
   "source": [
    "init_image.shape"
   ]
  },
  {
   "cell_type": "code",
   "execution_count": null,
   "metadata": {
    "collapsed": false
   },
   "outputs": [],
   "source": [
    "ms = {}\n",
    "ms['pcp'] = model_space(init_feature_dict, rf, activation_function = log_act_func)\n",
    "ms['img'] = model_space(init_feature_dict, rf, activation_function = log_act_func)"
   ]
  },
  {
   "cell_type": "markdown",
   "metadata": {},
   "source": [
    "### Step 4: load up all stimuli at the max feature resolution"
   ]
  },
  {
   "cell_type": "code",
   "execution_count": null,
   "metadata": {
    "collapsed": false
   },
   "outputs": [],
   "source": [
    "max_feature_res = np.max(ms['pcp'].feature_resolutions.values())\n",
    "\n",
    "load_stim_func = lambda dx: np.array(fMRI.get_condition_stimuli(dx,output = 'PIL',image_size=(max_feature_res,max_feature_res)).convert('L'))[np.newaxis,np.newaxis] "
   ]
  },
  {
   "cell_type": "code",
   "execution_count": null,
   "metadata": {
    "collapsed": false
   },
   "outputs": [],
   "source": [
    "load_stim_func(0).shape"
   ]
  },
  {
   "cell_type": "code",
   "execution_count": null,
   "metadata": {
    "collapsed": false
   },
   "outputs": [],
   "source": [
    "stimuli = {}\n",
    "stimuli['pcp'] = np.concatenate(map(load_stim_func,\n",
    "                                 idx['pcp']),\n",
    "                             axis=0)\n"
   ]
  },
  {
   "cell_type": "code",
   "execution_count": null,
   "metadata": {
    "collapsed": false
   },
   "outputs": [],
   "source": [
    "plt.imshow(stimuli['pcp'][0,0,:,:], cmap='gray')"
   ]
  },
  {
   "cell_type": "code",
   "execution_count": null,
   "metadata": {
    "collapsed": false
   },
   "outputs": [],
   "source": [
    "stimuli['img'] = np.concatenate(map(load_stim_func,\n",
    "                                 idx['img']),\n",
    "                             axis=0)"
   ]
  },
  {
   "cell_type": "code",
   "execution_count": null,
   "metadata": {
    "collapsed": false
   },
   "outputs": [],
   "source": [
    "plt.imshow(stimuli['img'][0,0,:,:],cmap='gray')"
   ]
  },
  {
   "cell_type": "markdown",
   "metadata": {},
   "source": [
    "### Step 5: train the perception and imagery models"
   ]
  },
  {
   "cell_type": "markdown",
   "metadata": {},
   "source": [
    "#### train/test split"
   ]
  },
  {
   "cell_type": "code",
   "execution_count": null,
   "metadata": {
    "collapsed": true
   },
   "outputs": [],
   "source": [
    "val_frac = 0.04687  ##24\n",
    "nvox = fMRI.betas.shape[0]\n",
    "n_resamples = 10 ##for a total of 240 validation samples"
   ]
  },
  {
   "cell_type": "markdown",
   "metadata": {},
   "source": [
    "#### train the model!"
   ]
  },
  {
   "cell_type": "code",
   "execution_count": null,
   "metadata": {
    "collapsed": false,
    "scrolled": true
   },
   "outputs": [],
   "source": [
    "state_list = ['img', 'pcp']\n",
    "\n",
    "mst = {}\n",
    "params = {}\n",
    "pred = {}\n",
    "val_cc = {}\n",
    "val_idx = {}\n",
    "trn_idx = {}\n",
    "for state in state_list: #[pcp', 'img']:\n",
    "    params[state] = {}\n",
    "    print '==========================================================%s' %(state)\n",
    "    ##build feature diction. overwrite across state\n",
    "    feature_dict = gfm.create_feature_maps(stimuli[state])\n",
    "    ##build model space tensor\n",
    "    mst[state] = ms[state].construct_model_space_tensor(feature_dict, normalize=False)\n",
    "    mst[state] = ms[state].normalize_model_space_tensor(mst[state],save=True)\n",
    "    voxel_data = fMRI.betas[0:nvox, idx[state]].T\n",
    "    val_idx[state] = split_em_up(len(idx[state]),val_frac,n_resamples)\n",
    "    \n",
    "\n",
    "    trn_idx[state], params[state] = leave_k_out_training(val_idx[state],\n",
    "                                                         mst[state],\n",
    "                                                         voxel_data,\n",
    "                                                         initial_feature_weights='zeros',\n",
    "                                                         voxel_binsize = 25000,\n",
    "                                                         rf_grid_binsize=10,\n",
    "                                                         learning_rate=10**(-5.),\n",
    "                                                         max_iters = 75,\n",
    "                                                         early_stop_fraction=0.05,\n",
    "                                                         report_every = 25)\n",
    "    ##generate predictions\n",
    "    Tval = len(val_idx[state][0])\n",
    "    pred[state] = np.zeros((Tval*n_resamples,nvox))\n",
    "    val_cc[state] = np.zeros(nvox)\n",
    "\n",
    "    for val_iter in val_idx[state].keys():\n",
    "        frf = params[state][val_iter]['frf']\n",
    "        ffw = params[state][val_iter]['ffw']\n",
    "        \n",
    "        for v in range(nvox): \n",
    "            pred[state][(val_iter*Tval):(val_iter*Tval+Tval),v] = np.squeeze(bigmult(mst[state][np.newaxis,frf[v],val_idx[state][val_iter],:],\n",
    "                                           ffw[np.newaxis,:,v, np.newaxis]))\n",
    "    \n",
    "    total_val_idx = np.concatenate(val_idx[state].values()).astype('int')    \n",
    "    for v in range(nvox): \n",
    "        val_cc[state][v] = np.nan_to_num(pearsonr(voxel_data[total_val_idx,v],pred[state][:,v])[0])"
   ]
  },
  {
   "cell_type": "markdown",
   "metadata": {},
   "source": [
    "#### save it"
   ]
  },
  {
   "cell_type": "code",
   "execution_count": null,
   "metadata": {
    "collapsed": false
   },
   "outputs": [],
   "source": [
    "saving_place = '/media/tnaselar/Data/imagery_rf.2014/model_runs/'\n",
    "\n",
    "for ii,state in enumerate(state_list):\n",
    "    saving_file = 'model_space_'+'fwrf_gabor_robust_'+state+'_'+subject+'.p'\n",
    "    ms[state].params = params[state]\n",
    "    ms[state].val_cc = val_cc[state]\n",
    "    ms[state].gbr = gfm\n",
    "    ms[state].val_idx = val_idx[state]\n",
    "    ms[state].activation_function = log_act_func\n",
    "    pickle.dump(ms[state], open( join(saving_place, saving_file), \"wb\"))"
   ]
  },
  {
   "cell_type": "markdown",
   "metadata": {},
   "source": [
    "### Step 6: analysis"
   ]
  },
  {
   "cell_type": "markdown",
   "metadata": {},
   "source": [
    "#### loss history"
   ]
  },
  {
   "cell_type": "code",
   "execution_count": null,
   "metadata": {
    "collapsed": false,
    "scrolled": true
   },
   "outputs": [],
   "source": [
    "skip = 10\n",
    "for ii,state in enumerate(state_list):\n",
    "    beh = params[state][0]['beh']\n",
    "    plt.subplot(1,2,ii+1)\n",
    "    plt.title(state)\n",
    "    diff = beh[:,slice(0,-1,skip)]-beh[0,slice(0,-1,skip)]\n",
    "    _=plt.plot(diff)\n",
    "    plt.ylim([np.min(diff.ravel()),np.max(diff.ravel())])\n",
    "plt.tight_layout()"
   ]
  },
  {
   "cell_type": "code",
   "execution_count": null,
   "metadata": {
    "collapsed": false
   },
   "outputs": [],
   "source": [
    "for ii,state in enumerate(state_list):\n",
    "    beh = params[state][0]['beh']\n",
    "    plt.subplot(1,2,ii+1)\n",
    "    plt.title(state)\n",
    "    _=plt.hist(np.nan_to_num(beh[0,:]-np.min(beh,axis=0)),100)\n",
    "    plt.yscale('log')"
   ]
  },
  {
   "cell_type": "markdown",
   "metadata": {},
   "source": [
    "#### rf's"
   ]
  },
  {
   "cell_type": "code",
   "execution_count": null,
   "metadata": {
    "collapsed": false
   },
   "outputs": [],
   "source": [
    "for ii,state in enumerate(state_list):\n",
    "    frf = mst[state].params[0]['frf']\n",
    "    plt.subplot(1,2,ii+1)\n",
    "    _=plt.hist(frf,mst[state].receptive_fields.G,log=True)\n",
    "    plt.xlabel('smaller-->bigger')\n",
    "    plt.title(state)"
   ]
  },
  {
   "cell_type": "code",
   "execution_count": null,
   "metadata": {
    "collapsed": false,
    "scrolled": true
   },
   "outputs": [],
   "source": [
    "for ii,state in enumerate(state_list):\n",
    "    frf = params[state][0]['frf']\n",
    "    plt.subplot(1,2,ii+1)\n",
    "    plt.title(state)\n",
    "    plt.imshow(np.sum(ms[state].receptive_fields.make_rf_stack(64, min_pix_per_radius=1)[frf,:,:], axis=0), cmap='hot')"
   ]
  },
  {
   "cell_type": "markdown",
   "metadata": {},
   "source": [
    "#### prediction accuracy histograms"
   ]
  },
  {
   "cell_type": "code",
   "execution_count": null,
   "metadata": {
    "collapsed": true
   },
   "outputs": [],
   "source": [
    "####USE THIS TO LOAD UP A SAVED MST FOR VAL_CC ANALYSIS\n",
    "# state_list = ['pcp', 'img']\n",
    "# saving_place = '/media/tnaselar/Data/imagery_rf.2014/model_runs/'\n",
    "# mst={}\n",
    "# for ii,state in enumerate(['pcp','img']):\n",
    "#     saving_file = 'model_space_'+'fwrf_gabor_robust_'+state+'_'+'CO'+'.p'\n",
    "#     mst[state]=pickle.load(open( join(saving_place, saving_file), \"r\"))\n",
    "\n",
    "# val_cc = {}    \n",
    "# val_cc['pcp'] = mst['pcp'].val_cc\n",
    "\n",
    "# val_cc['img'] = mst['img'].val_cc"
   ]
  },
  {
   "cell_type": "code",
   "execution_count": null,
   "metadata": {
    "collapsed": false
   },
   "outputs": [],
   "source": [
    "count_thresh = .25\n",
    "plt.figure(figsize = (10,5))\n",
    "for ii,state in enumerate(state_list):#, 'img']):\n",
    "    plt.subplot(2,1,ii+1)\n",
    "    _=plt.hist(val_cc[state],100)\n",
    "    plt.yscale('log')\n",
    "    plt.ylim([10**0, 10**5])\n",
    "    plt.xlim([-.5, 1.])\n",
    "    plt.title(state)\n",
    "    print 'number of voxels with cc > %f, %s: %d' %(count_thresh,state,np.sum(map(lambda x: x > count_thresh, val_cc[state])))"
   ]
  },
  {
   "cell_type": "code",
   "execution_count": null,
   "metadata": {
    "collapsed": true
   },
   "outputs": [],
   "source": [
    "foo = mst['img']"
   ]
  },
  {
   "cell_type": "code",
   "execution_count": null,
   "metadata": {
    "collapsed": true
   },
   "outputs": [],
   "source": []
  },
  {
   "cell_type": "code",
   "execution_count": null,
   "metadata": {
    "collapsed": false
   },
   "outputs": [],
   "source": [
    "plt.figure(figsize = (10,5))\n",
    "for ii,state in enumerate(state_list):\n",
    "    values, base = np.histogram(val_cc[state], bins=100)\n",
    "    #evaluate the cumulative\n",
    "    cumulative = np.cumsum(values)\n",
    "    # plot the cumulative function\n",
    "    plt.plot(base[:-1], cumulative, hold=True,label=state, linewidth=3)#     plt.yscale('log')\n",
    "#     plt.ylim([10**0, 10**4])\n",
    "#     plt.xlim([-1, 1.])\n",
    "    \n",
    "plt.legend(loc='best')    "
   ]
  },
  {
   "cell_type": "markdown",
   "metadata": {},
   "source": [
    "#### prediction accuracy head-to-head"
   ]
  },
  {
   "cell_type": "code",
   "execution_count": null,
   "metadata": {
    "collapsed": false,
    "scrolled": false
   },
   "outputs": [],
   "source": [
    "if ('pcp' in state_list) & ('img' in state_list):\n",
    "    plt.figure(figsize=(10,10))\n",
    "    rng = np.linspace(-.6, .6, num=50)\n",
    "    plt.plot(val_cc['pcp'], val_cc['img'], '.');\n",
    "    plt.ylabel('img')\n",
    "    plt.xlabel('pcp')\n",
    "    plt.plot(rng, rng)\n",
    "    plt.axes().set_aspect(1)\n",
    "    plt.xlim([-1, 1])\n",
    "    plt.ylim([-1, 1])"
   ]
  },
  {
   "cell_type": "markdown",
   "metadata": {},
   "source": [
    "#### prediction accuracy volumes"
   ]
  },
  {
   "cell_type": "code",
   "execution_count": null,
   "metadata": {
    "collapsed": true
   },
   "outputs": [],
   "source": [
    "def view_vol_data(data_object, data_vol,save_to = None):\n",
    "    cur = data_object.mask.ravel(order=data_object.order).copy()\n",
    "    cur[cur > 0] = data_vol\n",
    "    view_vol = cur.reshape(data_object.shape,order=data_object.order)\n",
    "    if save_to:\n",
    "        nib.save(nib.Nifti1Image(view_vol,affine=np.eye(4)),save_to)\n",
    "    else:\n",
    "        return view_vol"
   ]
  },
  {
   "cell_type": "code",
   "execution_count": null,
   "metadata": {
    "collapsed": true
   },
   "outputs": [],
   "source": [
    "for state in state_list:\n",
    "    view_vol_data(fMRI,val_cc[state], save_to = '/media/tnaselar/Data/scratch/'+state+'_gabor_val_cc_'+subject )"
   ]
  }
 ],
 "metadata": {
  "kernelspec": {
   "display_name": "Python 2",
   "language": "python",
   "name": "python2"
  },
  "language_info": {
   "codemirror_mode": {
    "name": "ipython",
    "version": 2
   },
   "file_extension": ".py",
   "mimetype": "text/x-python",
   "name": "python",
   "nbconvert_exporter": "python",
   "pygments_lexer": "ipython2",
   "version": "2.7.11"
  }
 },
 "nbformat": 4,
 "nbformat_minor": 0
}
