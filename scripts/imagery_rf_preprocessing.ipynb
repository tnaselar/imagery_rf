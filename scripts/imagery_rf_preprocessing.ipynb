{
 "metadata": {
  "name": ""
 },
 "nbformat": 3,
 "nbformat_minor": 0,
 "worksheets": [
  {
   "cells": [
    {
     "cell_type": "code",
     "collapsed": false,
     "input": [
      "##importation\n",
      "from palmetto.palmetto_pbs import pbs_job\n",
      "from os import system"
     ],
     "language": "python",
     "metadata": {},
     "outputs": [],
     "prompt_number": 8
    },
    {
     "cell_type": "code",
     "collapsed": false,
     "input": [
      "##processing parameters\n",
      "n_nodes = 1   \t\t\t\t\t\t#nNodes ~ integer. number of nodes requested. will usually be 1.\n",
      "n_cpus = 1    \t\t\t\t\t\t#nCpus ~ number of cores per node. NOTE: set to 1 to run in serial mode.\n",
      "mem_gb = 16    \t\t\t\t\t\t#memGb ~ iteger. memory request in Gb.\n",
      "wall_time = [61, 0, 0]    \t\t\t\t#wallTime ~ [HRS, MINS, SECS] ~ [INT, INT, INT]\n",
      "\t\t\t\t\t\t\t#scriptName ~ string. full path to your script\n",
      "run_script = '/home/tnaselar/code/Python/nipype_mri/scripts/fsl_preproc_go.py'    \n",
      "repo = '/Data/tmp/'+'pbs.reports/'        \t\t\t#repo ~ a path to a place where the script argument data, the .sh script, and stdout and stderr go\n",
      "user = 'tnaselar'"
     ],
     "language": "python",
     "metadata": {},
     "outputs": [],
     "prompt_number": 9
    },
    {
     "cell_type": "code",
     "collapsed": false,
     "input": [
      "##===parameters\n",
      "\n",
      "##============root directory\n",
      "root_dir = '/Data/tmp/'\n",
      "run_script = '/musc.repo/tnaselar/Docs/code/Python/nipype_mri/scripts/fsl_preproc_go.py'    \n",
      "repo = '/Data/tmp/'+'pbs.reports/'        \t\t\t#repo ~ a path to a place where the script argument data, the .sh script, and stdout and stderr go\n",
      "user = 'tnaselar'\n",
      "\n",
      "##===========general fsl_preproc options that won't change across subjects\n",
      "default_params = {}\n",
      "default_params['db'] = '/Data/tmp/tmp_databases/mri.ichi.db'#'/Data/7T/databases/mri.ichi.db' #'/musc.repo/mri/7T.musc/databases/mri.ichi.db'\t\t \t##get subject and run information from this database\n",
      "default_params['ref_vol_runList'] = []\t\t\t\t\t\t##grab only the first run for aligning all the other runs to\n",
      "default_params['TOOBIG'] = 10000;\t\t\t\t\t\t\t##a hack. need it for extracting the initial siemens ref vol.\n",
      "default_params['crop_this'] = ['med', 'med', 'min']\t\t\t##if one of the runs has volumes bigger than the ref run, this says how to truncate the too-big volumes\n",
      "default_params['nProc'] = n_cpus\t\t\t\t\t\t\t##should always makes sure that nipype and palmetto are dealing with the same number of cores\n",
      "default_params['bet_frac'] = 0.1\t\t\t\t\t\t\t##sensitivity for making a brain mask\n",
      "default_params['ref_run'] = []\t\t\t\t\t\t\t\t##not sure...can we use anatomical?\n",
      "default_params['moco_only'] = False\t\t\t\t\t\t\t##should just only do motion correction\n",
      "default_params['searchr_x'] = []\t\t\t\t\t\t\t## parameters for nonlinear registration #[-180, 180], [-75, 75], [-30, 30]\n",
      "default_params['searchr_y'] = []\n",
      "default_params['searchr_z'] = []\n",
      "default_params['interp_FNIRT'] = 'spline'\t\t\t\t\t\t##method of interpolation after transformation: NONlinear registration\n",
      "default_params['interp_FLIRT'] = 'sinc'\t\t\t\t\t\t\t##method of interpolation after transformation: linear registration\n",
      "default_params['dof_FLIRT'] = 12\t\t\t\t\t\t\t##linear registration degree of freedom\n",
      "default_params['rigid2D_FLIRT'] = False\t\t\t\t\t\t\t##not sure....?\n",
      "\n",
      "##===========dumb function for creating directories from a subject name\n",
      "def make_subj_dir(root_dir, version, subj):\n",
      "    dir_dict = {}\n",
      "    dir_dict['basedir'] = root_dir+subject+version+'/'  \t\t           ##this is where nipype's default output for each node goes. check here if the pipeline crashes \n",
      "    dir_dict['results_base_dir'] = dir_dict['basedir']\t\t\t           ##directory for the datasinks\n",
      "    dir_dict['results_container'] = dir_dict['results_base_dir']+'mocoresults/'  ##sub-directory for the main pipeline datasink\n",
      "    dir_dict['subject'] = subj\t\n",
      "    \n",
      "    return dir_dict\n",
      "\n",
      "\n"
     ],
     "language": "python",
     "metadata": {},
     "outputs": [],
     "prompt_number": 10
    },
    {
     "cell_type": "code",
     "collapsed": false,
     "input": [
      "##==================JER: seems to die when trying to plug outputs of expand_flrt_mats and moco_vols to combX\n",
      "subject = 'JER'\n",
      "experiment = 'single.object.400'\n",
      "fsl_preproc_params = {}\n",
      "fsl_preproc_params.update(make_subj_dir(root_dir, experiment, subject))\n",
      "fsl_preproc_params.update(default_params)\t\t\t\t\t\t\n",
      "fsl_preproc_params['experiment'] = experiment\n",
      "fsl_preproc_params['sess_list'] = [0]\t\t\t\t\t\t\t        ##NOTE: Leave empty to use ALL available sessions\n",
      "fsl_preproc_params['run_list'] = [1]\t\t\t\t\t\t         ##NOTE: Leave empty to use ALL available runs\n",
      "fsl_preproc_params['do_FNIRT'] = False\n",
      "fsl_preproc_params['FNIRT_subsamp'] = [[4,2,1,1]]   \t\t\t\t\t\t\t##[[8, 4, 2, 2], [4, 4, 2, 2], [4, 2, 1, 1]]\n",
      "fsl_preproc_params['FNIRT_warpres'] = [(5,5,5)]   \t\t\t\t\t\t\t##[(5,5,5), (15,15,15), (10,10,10)]  \n",
      "fsl_preproc_params['FLIRT_cost_func'] = ['normcorr']#['mutualinfo', 'corratio', 'normcorr', 'normmi', 'leastsq']  \n",
      "job_name = '%s_%s' %(subject, experiment)\t\t\t\t\t\t\t#jobName ~ string (must be 7 characters long)\n",
      "job_name = job_name[0:3]+job_name[-4:]\t\t\t\t\t\t\t\t##this little bit of retardation is because jobnames must be 7 chars long on palmetto\n",
      "\n",
      "run_it = pbs_job(job_name, n_nodes, n_cpus, mem_gb, wall_time, user, run_script, fsl_preproc_params, repo)\n",
      "run_it.make_script()\n",
      "run_it.local()"
     ],
     "language": "python",
     "metadata": {},
     "outputs": [],
     "prompt_number": 11
    },
    {
     "cell_type": "code",
     "collapsed": false,
     "input": [
      "run_it?"
     ],
     "language": "python",
     "metadata": {},
     "outputs": [],
     "prompt_number": 12
    },
    {
     "cell_type": "code",
     "collapsed": false,
     "input": [],
     "language": "python",
     "metadata": {},
     "outputs": []
    }
   ],
   "metadata": {}
  }
 ]
}